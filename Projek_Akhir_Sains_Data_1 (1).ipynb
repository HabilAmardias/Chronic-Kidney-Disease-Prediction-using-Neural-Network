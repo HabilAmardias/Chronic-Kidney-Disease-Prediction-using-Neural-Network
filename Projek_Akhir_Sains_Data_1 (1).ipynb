{
 "cells": [
  {
   "cell_type": "code",
   "execution_count": 1,
   "metadata": {
    "id": "f15N_A93QlAv"
   },
   "outputs": [],
   "source": [
    "import pandas as pd\n",
    "import numpy as np\n",
    "import tensorflow as tf\n",
    "import seaborn as sns\n",
    "import matplotlib.pyplot as plt\n",
    "from sklearn.model_selection import train_test_split"
   ]
  },
  {
   "cell_type": "markdown",
   "metadata": {
    "id": "5NyvIlcSRbJf"
   },
   "source": [
    "# Eksplorasi Data"
   ]
  },
  {
   "cell_type": "code",
   "execution_count": 2,
   "metadata": {
    "colab": {
     "base_uri": "https://localhost:8080/",
     "height": 0
    },
    "id": "dabcnZ5zQxwm",
    "outputId": "36ee6c89-b182-4c70-99b8-4e83ac93b23a"
   },
   "outputs": [
    {
     "data": {
      "text/html": [
       "<div>\n",
       "<style scoped>\n",
       "    .dataframe tbody tr th:only-of-type {\n",
       "        vertical-align: middle;\n",
       "    }\n",
       "\n",
       "    .dataframe tbody tr th {\n",
       "        vertical-align: top;\n",
       "    }\n",
       "\n",
       "    .dataframe thead th {\n",
       "        text-align: right;\n",
       "    }\n",
       "</style>\n",
       "<table border=\"1\" class=\"dataframe\">\n",
       "  <thead>\n",
       "    <tr style=\"text-align: right;\">\n",
       "      <th></th>\n",
       "      <th>Sex</th>\n",
       "      <th>AgeBaseline</th>\n",
       "      <th>HistoryDiabetes</th>\n",
       "      <th>HistoryCHD</th>\n",
       "      <th>HistoryVascular</th>\n",
       "      <th>HistorySmoking</th>\n",
       "      <th>HistoryHTN</th>\n",
       "      <th>HistoryDLD</th>\n",
       "      <th>HistoryObesity</th>\n",
       "      <th>DLDmeds</th>\n",
       "      <th>...</th>\n",
       "      <th>ACEIARB</th>\n",
       "      <th>CholesterolBaseline</th>\n",
       "      <th>CreatinineBaseline</th>\n",
       "      <th>eGFRBaseline</th>\n",
       "      <th>sBPBaseline</th>\n",
       "      <th>dBPBaseline</th>\n",
       "      <th>BMIBaseline</th>\n",
       "      <th>TimeToEventMonths</th>\n",
       "      <th>EventCKD35</th>\n",
       "      <th>TIME_YEAR</th>\n",
       "    </tr>\n",
       "  </thead>\n",
       "  <tbody>\n",
       "    <tr>\n",
       "      <th>0</th>\n",
       "      <td>0</td>\n",
       "      <td>64</td>\n",
       "      <td>0</td>\n",
       "      <td>0</td>\n",
       "      <td>0</td>\n",
       "      <td>0</td>\n",
       "      <td>1</td>\n",
       "      <td>1</td>\n",
       "      <td>1</td>\n",
       "      <td>1</td>\n",
       "      <td>...</td>\n",
       "      <td>0</td>\n",
       "      <td>4.80</td>\n",
       "      <td>59.0</td>\n",
       "      <td>93.3</td>\n",
       "      <td>144</td>\n",
       "      <td>87</td>\n",
       "      <td>40</td>\n",
       "      <td>98</td>\n",
       "      <td>0</td>\n",
       "      <td>8</td>\n",
       "    </tr>\n",
       "    <tr>\n",
       "      <th>1</th>\n",
       "      <td>0</td>\n",
       "      <td>52</td>\n",
       "      <td>0</td>\n",
       "      <td>0</td>\n",
       "      <td>0</td>\n",
       "      <td>0</td>\n",
       "      <td>1</td>\n",
       "      <td>1</td>\n",
       "      <td>1</td>\n",
       "      <td>0</td>\n",
       "      <td>...</td>\n",
       "      <td>0</td>\n",
       "      <td>6.40</td>\n",
       "      <td>52.0</td>\n",
       "      <td>105.8</td>\n",
       "      <td>148</td>\n",
       "      <td>91</td>\n",
       "      <td>45</td>\n",
       "      <td>106</td>\n",
       "      <td>0</td>\n",
       "      <td>9</td>\n",
       "    </tr>\n",
       "    <tr>\n",
       "      <th>2</th>\n",
       "      <td>0</td>\n",
       "      <td>56</td>\n",
       "      <td>0</td>\n",
       "      <td>0</td>\n",
       "      <td>0</td>\n",
       "      <td>0</td>\n",
       "      <td>1</td>\n",
       "      <td>1</td>\n",
       "      <td>1</td>\n",
       "      <td>1</td>\n",
       "      <td>...</td>\n",
       "      <td>0</td>\n",
       "      <td>6.40</td>\n",
       "      <td>57.0</td>\n",
       "      <td>99.8</td>\n",
       "      <td>149</td>\n",
       "      <td>86</td>\n",
       "      <td>41</td>\n",
       "      <td>88</td>\n",
       "      <td>0</td>\n",
       "      <td>7</td>\n",
       "    </tr>\n",
       "    <tr>\n",
       "      <th>3</th>\n",
       "      <td>0</td>\n",
       "      <td>58</td>\n",
       "      <td>0</td>\n",
       "      <td>0</td>\n",
       "      <td>0</td>\n",
       "      <td>0</td>\n",
       "      <td>0</td>\n",
       "      <td>1</td>\n",
       "      <td>1</td>\n",
       "      <td>1</td>\n",
       "      <td>...</td>\n",
       "      <td>0</td>\n",
       "      <td>5.10</td>\n",
       "      <td>65.0</td>\n",
       "      <td>90.3</td>\n",
       "      <td>116</td>\n",
       "      <td>68</td>\n",
       "      <td>32</td>\n",
       "      <td>103</td>\n",
       "      <td>0</td>\n",
       "      <td>9</td>\n",
       "    </tr>\n",
       "    <tr>\n",
       "      <th>4</th>\n",
       "      <td>0</td>\n",
       "      <td>63</td>\n",
       "      <td>1</td>\n",
       "      <td>0</td>\n",
       "      <td>0</td>\n",
       "      <td>0</td>\n",
       "      <td>1</td>\n",
       "      <td>1</td>\n",
       "      <td>1</td>\n",
       "      <td>1</td>\n",
       "      <td>...</td>\n",
       "      <td>1</td>\n",
       "      <td>5.00</td>\n",
       "      <td>70.0</td>\n",
       "      <td>79.7</td>\n",
       "      <td>132</td>\n",
       "      <td>63</td>\n",
       "      <td>31</td>\n",
       "      <td>105</td>\n",
       "      <td>0</td>\n",
       "      <td>9</td>\n",
       "    </tr>\n",
       "    <tr>\n",
       "      <th>...</th>\n",
       "      <td>...</td>\n",
       "      <td>...</td>\n",
       "      <td>...</td>\n",
       "      <td>...</td>\n",
       "      <td>...</td>\n",
       "      <td>...</td>\n",
       "      <td>...</td>\n",
       "      <td>...</td>\n",
       "      <td>...</td>\n",
       "      <td>...</td>\n",
       "      <td>...</td>\n",
       "      <td>...</td>\n",
       "      <td>...</td>\n",
       "      <td>...</td>\n",
       "      <td>...</td>\n",
       "      <td>...</td>\n",
       "      <td>...</td>\n",
       "      <td>...</td>\n",
       "      <td>...</td>\n",
       "      <td>...</td>\n",
       "      <td>...</td>\n",
       "    </tr>\n",
       "    <tr>\n",
       "      <th>486</th>\n",
       "      <td>1</td>\n",
       "      <td>25</td>\n",
       "      <td>0</td>\n",
       "      <td>0</td>\n",
       "      <td>0</td>\n",
       "      <td>0</td>\n",
       "      <td>0</td>\n",
       "      <td>0</td>\n",
       "      <td>0</td>\n",
       "      <td>0</td>\n",
       "      <td>...</td>\n",
       "      <td>0</td>\n",
       "      <td>5.30</td>\n",
       "      <td>73.0</td>\n",
       "      <td>122.6</td>\n",
       "      <td>127</td>\n",
       "      <td>74</td>\n",
       "      <td>24</td>\n",
       "      <td>102</td>\n",
       "      <td>0</td>\n",
       "      <td>9</td>\n",
       "    </tr>\n",
       "    <tr>\n",
       "      <th>487</th>\n",
       "      <td>1</td>\n",
       "      <td>45</td>\n",
       "      <td>0</td>\n",
       "      <td>0</td>\n",
       "      <td>0</td>\n",
       "      <td>0</td>\n",
       "      <td>1</td>\n",
       "      <td>0</td>\n",
       "      <td>1</td>\n",
       "      <td>0</td>\n",
       "      <td>...</td>\n",
       "      <td>0</td>\n",
       "      <td>5.90</td>\n",
       "      <td>67.0</td>\n",
       "      <td>110.3</td>\n",
       "      <td>150</td>\n",
       "      <td>112</td>\n",
       "      <td>33</td>\n",
       "      <td>94</td>\n",
       "      <td>0</td>\n",
       "      <td>8</td>\n",
       "    </tr>\n",
       "    <tr>\n",
       "      <th>488</th>\n",
       "      <td>1</td>\n",
       "      <td>44</td>\n",
       "      <td>1</td>\n",
       "      <td>0</td>\n",
       "      <td>0</td>\n",
       "      <td>0</td>\n",
       "      <td>0</td>\n",
       "      <td>1</td>\n",
       "      <td>1</td>\n",
       "      <td>1</td>\n",
       "      <td>...</td>\n",
       "      <td>0</td>\n",
       "      <td>6.41</td>\n",
       "      <td>66.3</td>\n",
       "      <td>111.6</td>\n",
       "      <td>126</td>\n",
       "      <td>83</td>\n",
       "      <td>35</td>\n",
       "      <td>0</td>\n",
       "      <td>0</td>\n",
       "      <td>0</td>\n",
       "    </tr>\n",
       "    <tr>\n",
       "      <th>489</th>\n",
       "      <td>1</td>\n",
       "      <td>41</td>\n",
       "      <td>0</td>\n",
       "      <td>0</td>\n",
       "      <td>1</td>\n",
       "      <td>1</td>\n",
       "      <td>1</td>\n",
       "      <td>1</td>\n",
       "      <td>0</td>\n",
       "      <td>1</td>\n",
       "      <td>...</td>\n",
       "      <td>1</td>\n",
       "      <td>4.00</td>\n",
       "      <td>93.0</td>\n",
       "      <td>87.6</td>\n",
       "      <td>119</td>\n",
       "      <td>66</td>\n",
       "      <td>22</td>\n",
       "      <td>35</td>\n",
       "      <td>1</td>\n",
       "      <td>3</td>\n",
       "    </tr>\n",
       "    <tr>\n",
       "      <th>490</th>\n",
       "      <td>1</td>\n",
       "      <td>24</td>\n",
       "      <td>0</td>\n",
       "      <td>0</td>\n",
       "      <td>0</td>\n",
       "      <td>0</td>\n",
       "      <td>0</td>\n",
       "      <td>0</td>\n",
       "      <td>0</td>\n",
       "      <td>0</td>\n",
       "      <td>...</td>\n",
       "      <td>0</td>\n",
       "      <td>2.23</td>\n",
       "      <td>65.0</td>\n",
       "      <td>129.5</td>\n",
       "      <td>121</td>\n",
       "      <td>55</td>\n",
       "      <td>21</td>\n",
       "      <td>106</td>\n",
       "      <td>0</td>\n",
       "      <td>9</td>\n",
       "    </tr>\n",
       "  </tbody>\n",
       "</table>\n",
       "<p>491 rows × 22 columns</p>\n",
       "</div>"
      ],
      "text/plain": [
       "     Sex  AgeBaseline  HistoryDiabetes  HistoryCHD  HistoryVascular  \\\n",
       "0      0           64                0           0                0   \n",
       "1      0           52                0           0                0   \n",
       "2      0           56                0           0                0   \n",
       "3      0           58                0           0                0   \n",
       "4      0           63                1           0                0   \n",
       "..   ...          ...              ...         ...              ...   \n",
       "486    1           25                0           0                0   \n",
       "487    1           45                0           0                0   \n",
       "488    1           44                1           0                0   \n",
       "489    1           41                0           0                1   \n",
       "490    1           24                0           0                0   \n",
       "\n",
       "     HistorySmoking  HistoryHTN   HistoryDLD  HistoryObesity  DLDmeds  ...  \\\n",
       "0                 0            1           1               1        1  ...   \n",
       "1                 0            1           1               1        0  ...   \n",
       "2                 0            1           1               1        1  ...   \n",
       "3                 0            0           1               1        1  ...   \n",
       "4                 0            1           1               1        1  ...   \n",
       "..              ...          ...         ...             ...      ...  ...   \n",
       "486               0            0           0               0        0  ...   \n",
       "487               0            1           0               1        0  ...   \n",
       "488               0            0           1               1        1  ...   \n",
       "489               1            1           1               0        1  ...   \n",
       "490               0            0           0               0        0  ...   \n",
       "\n",
       "     ACEIARB  CholesterolBaseline  CreatinineBaseline  eGFRBaseline  \\\n",
       "0          0                 4.80                59.0          93.3   \n",
       "1          0                 6.40                52.0         105.8   \n",
       "2          0                 6.40                57.0          99.8   \n",
       "3          0                 5.10                65.0          90.3   \n",
       "4          1                 5.00                70.0          79.7   \n",
       "..       ...                  ...                 ...           ...   \n",
       "486        0                 5.30                73.0         122.6   \n",
       "487        0                 5.90                67.0         110.3   \n",
       "488        0                 6.41                66.3         111.6   \n",
       "489        1                 4.00                93.0          87.6   \n",
       "490        0                 2.23                65.0         129.5   \n",
       "\n",
       "     sBPBaseline  dBPBaseline  BMIBaseline  TimeToEventMonths  EventCKD35  \\\n",
       "0            144           87           40                 98           0   \n",
       "1            148           91           45                106           0   \n",
       "2            149           86           41                 88           0   \n",
       "3            116           68           32                103           0   \n",
       "4            132           63           31                105           0   \n",
       "..           ...          ...          ...                ...         ...   \n",
       "486          127           74           24                102           0   \n",
       "487          150          112           33                 94           0   \n",
       "488          126           83           35                  0           0   \n",
       "489          119           66           22                 35           1   \n",
       "490          121           55           21                106           0   \n",
       "\n",
       "     TIME_YEAR  \n",
       "0            8  \n",
       "1            9  \n",
       "2            7  \n",
       "3            9  \n",
       "4            9  \n",
       "..         ...  \n",
       "486          9  \n",
       "487          8  \n",
       "488          0  \n",
       "489          3  \n",
       "490          9  \n",
       "\n",
       "[491 rows x 22 columns]"
      ]
     },
     "execution_count": 2,
     "metadata": {},
     "output_type": "execute_result"
    }
   ],
   "source": [
    "data=pd.read_csv('ChronicKidneyDisease_EHRs_from_AbuDhabi.csv')\n",
    "data"
   ]
  },
  {
   "cell_type": "code",
   "execution_count": 3,
   "metadata": {
    "colab": {
     "base_uri": "https://localhost:8080/",
     "height": 0
    },
    "id": "_pKoSnuURZtA",
    "outputId": "d59f1105-5039-49ed-8098-e323bd6ba978"
   },
   "outputs": [
    {
     "data": {
      "text/html": [
       "<div>\n",
       "<style scoped>\n",
       "    .dataframe tbody tr th:only-of-type {\n",
       "        vertical-align: middle;\n",
       "    }\n",
       "\n",
       "    .dataframe tbody tr th {\n",
       "        vertical-align: top;\n",
       "    }\n",
       "\n",
       "    .dataframe thead th {\n",
       "        text-align: right;\n",
       "    }\n",
       "</style>\n",
       "<table border=\"1\" class=\"dataframe\">\n",
       "  <thead>\n",
       "    <tr style=\"text-align: right;\">\n",
       "      <th></th>\n",
       "      <th>Sex</th>\n",
       "      <th>AgeBaseline</th>\n",
       "      <th>HistoryDiabetes</th>\n",
       "      <th>HistoryCHD</th>\n",
       "      <th>HistoryVascular</th>\n",
       "      <th>HistorySmoking</th>\n",
       "      <th>HistoryHTN</th>\n",
       "      <th>HistoryDLD</th>\n",
       "      <th>HistoryObesity</th>\n",
       "      <th>DLDmeds</th>\n",
       "      <th>DMmeds</th>\n",
       "      <th>HTNmeds</th>\n",
       "      <th>ACEIARB</th>\n",
       "      <th>CholesterolBaseline</th>\n",
       "      <th>CreatinineBaseline</th>\n",
       "      <th>eGFRBaseline</th>\n",
       "      <th>sBPBaseline</th>\n",
       "      <th>dBPBaseline</th>\n",
       "      <th>BMIBaseline</th>\n",
       "      <th>EventCKD35</th>\n",
       "    </tr>\n",
       "  </thead>\n",
       "  <tbody>\n",
       "    <tr>\n",
       "      <th>0</th>\n",
       "      <td>0</td>\n",
       "      <td>64</td>\n",
       "      <td>0</td>\n",
       "      <td>0</td>\n",
       "      <td>0</td>\n",
       "      <td>0</td>\n",
       "      <td>1</td>\n",
       "      <td>1</td>\n",
       "      <td>1</td>\n",
       "      <td>1</td>\n",
       "      <td>0</td>\n",
       "      <td>1</td>\n",
       "      <td>0</td>\n",
       "      <td>4.80</td>\n",
       "      <td>59.0</td>\n",
       "      <td>93.3</td>\n",
       "      <td>144</td>\n",
       "      <td>87</td>\n",
       "      <td>40</td>\n",
       "      <td>0</td>\n",
       "    </tr>\n",
       "    <tr>\n",
       "      <th>1</th>\n",
       "      <td>0</td>\n",
       "      <td>52</td>\n",
       "      <td>0</td>\n",
       "      <td>0</td>\n",
       "      <td>0</td>\n",
       "      <td>0</td>\n",
       "      <td>1</td>\n",
       "      <td>1</td>\n",
       "      <td>1</td>\n",
       "      <td>0</td>\n",
       "      <td>0</td>\n",
       "      <td>1</td>\n",
       "      <td>0</td>\n",
       "      <td>6.40</td>\n",
       "      <td>52.0</td>\n",
       "      <td>105.8</td>\n",
       "      <td>148</td>\n",
       "      <td>91</td>\n",
       "      <td>45</td>\n",
       "      <td>0</td>\n",
       "    </tr>\n",
       "    <tr>\n",
       "      <th>2</th>\n",
       "      <td>0</td>\n",
       "      <td>56</td>\n",
       "      <td>0</td>\n",
       "      <td>0</td>\n",
       "      <td>0</td>\n",
       "      <td>0</td>\n",
       "      <td>1</td>\n",
       "      <td>1</td>\n",
       "      <td>1</td>\n",
       "      <td>1</td>\n",
       "      <td>0</td>\n",
       "      <td>1</td>\n",
       "      <td>0</td>\n",
       "      <td>6.40</td>\n",
       "      <td>57.0</td>\n",
       "      <td>99.8</td>\n",
       "      <td>149</td>\n",
       "      <td>86</td>\n",
       "      <td>41</td>\n",
       "      <td>0</td>\n",
       "    </tr>\n",
       "    <tr>\n",
       "      <th>3</th>\n",
       "      <td>0</td>\n",
       "      <td>58</td>\n",
       "      <td>0</td>\n",
       "      <td>0</td>\n",
       "      <td>0</td>\n",
       "      <td>0</td>\n",
       "      <td>0</td>\n",
       "      <td>1</td>\n",
       "      <td>1</td>\n",
       "      <td>1</td>\n",
       "      <td>0</td>\n",
       "      <td>0</td>\n",
       "      <td>0</td>\n",
       "      <td>5.10</td>\n",
       "      <td>65.0</td>\n",
       "      <td>90.3</td>\n",
       "      <td>116</td>\n",
       "      <td>68</td>\n",
       "      <td>32</td>\n",
       "      <td>0</td>\n",
       "    </tr>\n",
       "    <tr>\n",
       "      <th>4</th>\n",
       "      <td>0</td>\n",
       "      <td>63</td>\n",
       "      <td>1</td>\n",
       "      <td>0</td>\n",
       "      <td>0</td>\n",
       "      <td>0</td>\n",
       "      <td>1</td>\n",
       "      <td>1</td>\n",
       "      <td>1</td>\n",
       "      <td>1</td>\n",
       "      <td>1</td>\n",
       "      <td>1</td>\n",
       "      <td>1</td>\n",
       "      <td>5.00</td>\n",
       "      <td>70.0</td>\n",
       "      <td>79.7</td>\n",
       "      <td>132</td>\n",
       "      <td>63</td>\n",
       "      <td>31</td>\n",
       "      <td>0</td>\n",
       "    </tr>\n",
       "    <tr>\n",
       "      <th>...</th>\n",
       "      <td>...</td>\n",
       "      <td>...</td>\n",
       "      <td>...</td>\n",
       "      <td>...</td>\n",
       "      <td>...</td>\n",
       "      <td>...</td>\n",
       "      <td>...</td>\n",
       "      <td>...</td>\n",
       "      <td>...</td>\n",
       "      <td>...</td>\n",
       "      <td>...</td>\n",
       "      <td>...</td>\n",
       "      <td>...</td>\n",
       "      <td>...</td>\n",
       "      <td>...</td>\n",
       "      <td>...</td>\n",
       "      <td>...</td>\n",
       "      <td>...</td>\n",
       "      <td>...</td>\n",
       "      <td>...</td>\n",
       "    </tr>\n",
       "    <tr>\n",
       "      <th>486</th>\n",
       "      <td>1</td>\n",
       "      <td>25</td>\n",
       "      <td>0</td>\n",
       "      <td>0</td>\n",
       "      <td>0</td>\n",
       "      <td>0</td>\n",
       "      <td>0</td>\n",
       "      <td>0</td>\n",
       "      <td>0</td>\n",
       "      <td>0</td>\n",
       "      <td>0</td>\n",
       "      <td>0</td>\n",
       "      <td>0</td>\n",
       "      <td>5.30</td>\n",
       "      <td>73.0</td>\n",
       "      <td>122.6</td>\n",
       "      <td>127</td>\n",
       "      <td>74</td>\n",
       "      <td>24</td>\n",
       "      <td>0</td>\n",
       "    </tr>\n",
       "    <tr>\n",
       "      <th>487</th>\n",
       "      <td>1</td>\n",
       "      <td>45</td>\n",
       "      <td>0</td>\n",
       "      <td>0</td>\n",
       "      <td>0</td>\n",
       "      <td>0</td>\n",
       "      <td>1</td>\n",
       "      <td>0</td>\n",
       "      <td>1</td>\n",
       "      <td>0</td>\n",
       "      <td>0</td>\n",
       "      <td>0</td>\n",
       "      <td>0</td>\n",
       "      <td>5.90</td>\n",
       "      <td>67.0</td>\n",
       "      <td>110.3</td>\n",
       "      <td>150</td>\n",
       "      <td>112</td>\n",
       "      <td>33</td>\n",
       "      <td>0</td>\n",
       "    </tr>\n",
       "    <tr>\n",
       "      <th>488</th>\n",
       "      <td>1</td>\n",
       "      <td>44</td>\n",
       "      <td>1</td>\n",
       "      <td>0</td>\n",
       "      <td>0</td>\n",
       "      <td>0</td>\n",
       "      <td>0</td>\n",
       "      <td>1</td>\n",
       "      <td>1</td>\n",
       "      <td>1</td>\n",
       "      <td>1</td>\n",
       "      <td>0</td>\n",
       "      <td>0</td>\n",
       "      <td>6.41</td>\n",
       "      <td>66.3</td>\n",
       "      <td>111.6</td>\n",
       "      <td>126</td>\n",
       "      <td>83</td>\n",
       "      <td>35</td>\n",
       "      <td>0</td>\n",
       "    </tr>\n",
       "    <tr>\n",
       "      <th>489</th>\n",
       "      <td>1</td>\n",
       "      <td>41</td>\n",
       "      <td>0</td>\n",
       "      <td>0</td>\n",
       "      <td>1</td>\n",
       "      <td>1</td>\n",
       "      <td>1</td>\n",
       "      <td>1</td>\n",
       "      <td>0</td>\n",
       "      <td>1</td>\n",
       "      <td>0</td>\n",
       "      <td>1</td>\n",
       "      <td>1</td>\n",
       "      <td>4.00</td>\n",
       "      <td>93.0</td>\n",
       "      <td>87.6</td>\n",
       "      <td>119</td>\n",
       "      <td>66</td>\n",
       "      <td>22</td>\n",
       "      <td>1</td>\n",
       "    </tr>\n",
       "    <tr>\n",
       "      <th>490</th>\n",
       "      <td>1</td>\n",
       "      <td>24</td>\n",
       "      <td>0</td>\n",
       "      <td>0</td>\n",
       "      <td>0</td>\n",
       "      <td>0</td>\n",
       "      <td>0</td>\n",
       "      <td>0</td>\n",
       "      <td>0</td>\n",
       "      <td>0</td>\n",
       "      <td>0</td>\n",
       "      <td>0</td>\n",
       "      <td>0</td>\n",
       "      <td>2.23</td>\n",
       "      <td>65.0</td>\n",
       "      <td>129.5</td>\n",
       "      <td>121</td>\n",
       "      <td>55</td>\n",
       "      <td>21</td>\n",
       "      <td>0</td>\n",
       "    </tr>\n",
       "  </tbody>\n",
       "</table>\n",
       "<p>491 rows × 20 columns</p>\n",
       "</div>"
      ],
      "text/plain": [
       "     Sex  AgeBaseline  HistoryDiabetes  HistoryCHD  HistoryVascular  \\\n",
       "0      0           64                0           0                0   \n",
       "1      0           52                0           0                0   \n",
       "2      0           56                0           0                0   \n",
       "3      0           58                0           0                0   \n",
       "4      0           63                1           0                0   \n",
       "..   ...          ...              ...         ...              ...   \n",
       "486    1           25                0           0                0   \n",
       "487    1           45                0           0                0   \n",
       "488    1           44                1           0                0   \n",
       "489    1           41                0           0                1   \n",
       "490    1           24                0           0                0   \n",
       "\n",
       "     HistorySmoking  HistoryHTN   HistoryDLD  HistoryObesity  DLDmeds  DMmeds  \\\n",
       "0                 0            1           1               1        1       0   \n",
       "1                 0            1           1               1        0       0   \n",
       "2                 0            1           1               1        1       0   \n",
       "3                 0            0           1               1        1       0   \n",
       "4                 0            1           1               1        1       1   \n",
       "..              ...          ...         ...             ...      ...     ...   \n",
       "486               0            0           0               0        0       0   \n",
       "487               0            1           0               1        0       0   \n",
       "488               0            0           1               1        1       1   \n",
       "489               1            1           1               0        1       0   \n",
       "490               0            0           0               0        0       0   \n",
       "\n",
       "     HTNmeds  ACEIARB  CholesterolBaseline  CreatinineBaseline  eGFRBaseline  \\\n",
       "0          1        0                 4.80                59.0          93.3   \n",
       "1          1        0                 6.40                52.0         105.8   \n",
       "2          1        0                 6.40                57.0          99.8   \n",
       "3          0        0                 5.10                65.0          90.3   \n",
       "4          1        1                 5.00                70.0          79.7   \n",
       "..       ...      ...                  ...                 ...           ...   \n",
       "486        0        0                 5.30                73.0         122.6   \n",
       "487        0        0                 5.90                67.0         110.3   \n",
       "488        0        0                 6.41                66.3         111.6   \n",
       "489        1        1                 4.00                93.0          87.6   \n",
       "490        0        0                 2.23                65.0         129.5   \n",
       "\n",
       "     sBPBaseline  dBPBaseline  BMIBaseline  EventCKD35  \n",
       "0            144           87           40           0  \n",
       "1            148           91           45           0  \n",
       "2            149           86           41           0  \n",
       "3            116           68           32           0  \n",
       "4            132           63           31           0  \n",
       "..           ...          ...          ...         ...  \n",
       "486          127           74           24           0  \n",
       "487          150          112           33           0  \n",
       "488          126           83           35           0  \n",
       "489          119           66           22           1  \n",
       "490          121           55           21           0  \n",
       "\n",
       "[491 rows x 20 columns]"
      ]
     },
     "execution_count": 3,
     "metadata": {},
     "output_type": "execute_result"
    }
   ],
   "source": [
    "# Menghapus kolom yang tidak diperlukan\n",
    "data.drop(['TIME_YEAR','TimeToEventMonths'],inplace=True,axis=1)\n",
    "data"
   ]
  },
  {
   "cell_type": "code",
   "execution_count": 4,
   "metadata": {
    "colab": {
     "base_uri": "https://localhost:8080/"
    },
    "id": "KA5KFQ32Q-nK",
    "outputId": "546ebc94-9309-4894-c8f4-42c3fb1d1ecc"
   },
   "outputs": [
    {
     "name": "stdout",
     "output_type": "stream",
     "text": [
      "<class 'pandas.core.frame.DataFrame'>\n",
      "RangeIndex: 491 entries, 0 to 490\n",
      "Data columns (total 20 columns):\n",
      " #   Column               Non-Null Count  Dtype  \n",
      "---  ------               --------------  -----  \n",
      " 0   Sex                  491 non-null    int64  \n",
      " 1   AgeBaseline          491 non-null    int64  \n",
      " 2   HistoryDiabetes      491 non-null    int64  \n",
      " 3   HistoryCHD           491 non-null    int64  \n",
      " 4   HistoryVascular      491 non-null    int64  \n",
      " 5   HistorySmoking       491 non-null    int64  \n",
      " 6   HistoryHTN           491 non-null    int64  \n",
      " 7   HistoryDLD           491 non-null    int64  \n",
      " 8   HistoryObesity       491 non-null    int64  \n",
      " 9   DLDmeds              491 non-null    int64  \n",
      " 10  DMmeds               491 non-null    int64  \n",
      " 11  HTNmeds              491 non-null    int64  \n",
      " 12  ACEIARB              491 non-null    int64  \n",
      " 13  CholesterolBaseline  491 non-null    float64\n",
      " 14  CreatinineBaseline   491 non-null    float64\n",
      " 15  eGFRBaseline         491 non-null    float64\n",
      " 16  sBPBaseline          491 non-null    int64  \n",
      " 17  dBPBaseline          491 non-null    int64  \n",
      " 18  BMIBaseline          491 non-null    int64  \n",
      " 19  EventCKD35           491 non-null    int64  \n",
      "dtypes: float64(3), int64(17)\n",
      "memory usage: 76.8 KB\n"
     ]
    }
   ],
   "source": [
    "# Menampilkan informasi tentang dataset\n",
    "data.info()"
   ]
  },
  {
   "cell_type": "code",
   "execution_count": 5,
   "metadata": {
    "colab": {
     "base_uri": "https://localhost:8080/",
     "height": 0
    },
    "id": "aC4wxadQREll",
    "outputId": "42891091-9ab0-4429-8bb0-3f8939664081"
   },
   "outputs": [
    {
     "data": {
      "text/html": [
       "<div>\n",
       "<style scoped>\n",
       "    .dataframe tbody tr th:only-of-type {\n",
       "        vertical-align: middle;\n",
       "    }\n",
       "\n",
       "    .dataframe tbody tr th {\n",
       "        vertical-align: top;\n",
       "    }\n",
       "\n",
       "    .dataframe thead th {\n",
       "        text-align: right;\n",
       "    }\n",
       "</style>\n",
       "<table border=\"1\" class=\"dataframe\">\n",
       "  <thead>\n",
       "    <tr style=\"text-align: right;\">\n",
       "      <th></th>\n",
       "      <th>Sex</th>\n",
       "      <th>AgeBaseline</th>\n",
       "      <th>HistoryDiabetes</th>\n",
       "      <th>HistoryCHD</th>\n",
       "      <th>HistoryVascular</th>\n",
       "      <th>HistorySmoking</th>\n",
       "      <th>HistoryHTN</th>\n",
       "      <th>HistoryDLD</th>\n",
       "      <th>HistoryObesity</th>\n",
       "      <th>DLDmeds</th>\n",
       "      <th>DMmeds</th>\n",
       "      <th>HTNmeds</th>\n",
       "      <th>ACEIARB</th>\n",
       "      <th>CholesterolBaseline</th>\n",
       "      <th>CreatinineBaseline</th>\n",
       "      <th>eGFRBaseline</th>\n",
       "      <th>sBPBaseline</th>\n",
       "      <th>dBPBaseline</th>\n",
       "      <th>BMIBaseline</th>\n",
       "      <th>EventCKD35</th>\n",
       "    </tr>\n",
       "  </thead>\n",
       "  <tbody>\n",
       "    <tr>\n",
       "      <th>count</th>\n",
       "      <td>491.000000</td>\n",
       "      <td>491.000000</td>\n",
       "      <td>491.000000</td>\n",
       "      <td>491.000000</td>\n",
       "      <td>491.000000</td>\n",
       "      <td>491.000000</td>\n",
       "      <td>491.000000</td>\n",
       "      <td>491.000000</td>\n",
       "      <td>491.000000</td>\n",
       "      <td>491.000000</td>\n",
       "      <td>491.000000</td>\n",
       "      <td>491.000000</td>\n",
       "      <td>491.000000</td>\n",
       "      <td>491.000000</td>\n",
       "      <td>491.000000</td>\n",
       "      <td>491.000000</td>\n",
       "      <td>491.000000</td>\n",
       "      <td>491.000000</td>\n",
       "      <td>491.000000</td>\n",
       "      <td>491.000000</td>\n",
       "    </tr>\n",
       "    <tr>\n",
       "      <th>mean</th>\n",
       "      <td>0.509165</td>\n",
       "      <td>53.203666</td>\n",
       "      <td>0.437882</td>\n",
       "      <td>0.091650</td>\n",
       "      <td>0.059063</td>\n",
       "      <td>0.152749</td>\n",
       "      <td>0.682281</td>\n",
       "      <td>0.645621</td>\n",
       "      <td>0.505092</td>\n",
       "      <td>0.551935</td>\n",
       "      <td>0.327902</td>\n",
       "      <td>0.617108</td>\n",
       "      <td>0.446029</td>\n",
       "      <td>4.978574</td>\n",
       "      <td>67.856823</td>\n",
       "      <td>98.116090</td>\n",
       "      <td>131.374745</td>\n",
       "      <td>76.871690</td>\n",
       "      <td>30.183299</td>\n",
       "      <td>0.114053</td>\n",
       "    </tr>\n",
       "    <tr>\n",
       "      <th>std</th>\n",
       "      <td>0.500426</td>\n",
       "      <td>13.821282</td>\n",
       "      <td>0.496632</td>\n",
       "      <td>0.288825</td>\n",
       "      <td>0.235983</td>\n",
       "      <td>0.360113</td>\n",
       "      <td>0.466064</td>\n",
       "      <td>0.478812</td>\n",
       "      <td>0.500484</td>\n",
       "      <td>0.497803</td>\n",
       "      <td>0.469928</td>\n",
       "      <td>0.486588</td>\n",
       "      <td>0.497586</td>\n",
       "      <td>1.096702</td>\n",
       "      <td>17.918627</td>\n",
       "      <td>18.503267</td>\n",
       "      <td>15.692650</td>\n",
       "      <td>10.711134</td>\n",
       "      <td>6.236742</td>\n",
       "      <td>0.318200</td>\n",
       "    </tr>\n",
       "    <tr>\n",
       "      <th>min</th>\n",
       "      <td>0.000000</td>\n",
       "      <td>23.000000</td>\n",
       "      <td>0.000000</td>\n",
       "      <td>0.000000</td>\n",
       "      <td>0.000000</td>\n",
       "      <td>0.000000</td>\n",
       "      <td>0.000000</td>\n",
       "      <td>0.000000</td>\n",
       "      <td>0.000000</td>\n",
       "      <td>0.000000</td>\n",
       "      <td>0.000000</td>\n",
       "      <td>0.000000</td>\n",
       "      <td>0.000000</td>\n",
       "      <td>2.230000</td>\n",
       "      <td>6.000000</td>\n",
       "      <td>60.000000</td>\n",
       "      <td>92.000000</td>\n",
       "      <td>41.000000</td>\n",
       "      <td>13.000000</td>\n",
       "      <td>0.000000</td>\n",
       "    </tr>\n",
       "    <tr>\n",
       "      <th>25%</th>\n",
       "      <td>0.000000</td>\n",
       "      <td>44.000000</td>\n",
       "      <td>0.000000</td>\n",
       "      <td>0.000000</td>\n",
       "      <td>0.000000</td>\n",
       "      <td>0.000000</td>\n",
       "      <td>0.000000</td>\n",
       "      <td>0.000000</td>\n",
       "      <td>0.000000</td>\n",
       "      <td>0.000000</td>\n",
       "      <td>0.000000</td>\n",
       "      <td>0.000000</td>\n",
       "      <td>0.000000</td>\n",
       "      <td>4.200000</td>\n",
       "      <td>55.000000</td>\n",
       "      <td>86.400000</td>\n",
       "      <td>121.000000</td>\n",
       "      <td>69.000000</td>\n",
       "      <td>26.000000</td>\n",
       "      <td>0.000000</td>\n",
       "    </tr>\n",
       "    <tr>\n",
       "      <th>50%</th>\n",
       "      <td>1.000000</td>\n",
       "      <td>54.000000</td>\n",
       "      <td>0.000000</td>\n",
       "      <td>0.000000</td>\n",
       "      <td>0.000000</td>\n",
       "      <td>0.000000</td>\n",
       "      <td>1.000000</td>\n",
       "      <td>1.000000</td>\n",
       "      <td>1.000000</td>\n",
       "      <td>1.000000</td>\n",
       "      <td>0.000000</td>\n",
       "      <td>1.000000</td>\n",
       "      <td>0.000000</td>\n",
       "      <td>5.000000</td>\n",
       "      <td>66.000000</td>\n",
       "      <td>98.100000</td>\n",
       "      <td>131.000000</td>\n",
       "      <td>77.000000</td>\n",
       "      <td>30.000000</td>\n",
       "      <td>0.000000</td>\n",
       "    </tr>\n",
       "    <tr>\n",
       "      <th>75%</th>\n",
       "      <td>1.000000</td>\n",
       "      <td>64.000000</td>\n",
       "      <td>1.000000</td>\n",
       "      <td>0.000000</td>\n",
       "      <td>0.000000</td>\n",
       "      <td>0.000000</td>\n",
       "      <td>1.000000</td>\n",
       "      <td>1.000000</td>\n",
       "      <td>1.000000</td>\n",
       "      <td>1.000000</td>\n",
       "      <td>1.000000</td>\n",
       "      <td>1.000000</td>\n",
       "      <td>1.000000</td>\n",
       "      <td>5.770000</td>\n",
       "      <td>78.500000</td>\n",
       "      <td>109.500000</td>\n",
       "      <td>141.000000</td>\n",
       "      <td>83.000000</td>\n",
       "      <td>33.000000</td>\n",
       "      <td>0.000000</td>\n",
       "    </tr>\n",
       "    <tr>\n",
       "      <th>max</th>\n",
       "      <td>1.000000</td>\n",
       "      <td>89.000000</td>\n",
       "      <td>1.000000</td>\n",
       "      <td>1.000000</td>\n",
       "      <td>1.000000</td>\n",
       "      <td>1.000000</td>\n",
       "      <td>1.000000</td>\n",
       "      <td>1.000000</td>\n",
       "      <td>1.000000</td>\n",
       "      <td>1.000000</td>\n",
       "      <td>1.000000</td>\n",
       "      <td>1.000000</td>\n",
       "      <td>1.000000</td>\n",
       "      <td>9.300000</td>\n",
       "      <td>123.000000</td>\n",
       "      <td>242.600000</td>\n",
       "      <td>180.000000</td>\n",
       "      <td>112.000000</td>\n",
       "      <td>57.000000</td>\n",
       "      <td>1.000000</td>\n",
       "    </tr>\n",
       "  </tbody>\n",
       "</table>\n",
       "</div>"
      ],
      "text/plain": [
       "              Sex  AgeBaseline  HistoryDiabetes  HistoryCHD  HistoryVascular  \\\n",
       "count  491.000000   491.000000       491.000000  491.000000       491.000000   \n",
       "mean     0.509165    53.203666         0.437882    0.091650         0.059063   \n",
       "std      0.500426    13.821282         0.496632    0.288825         0.235983   \n",
       "min      0.000000    23.000000         0.000000    0.000000         0.000000   \n",
       "25%      0.000000    44.000000         0.000000    0.000000         0.000000   \n",
       "50%      1.000000    54.000000         0.000000    0.000000         0.000000   \n",
       "75%      1.000000    64.000000         1.000000    0.000000         0.000000   \n",
       "max      1.000000    89.000000         1.000000    1.000000         1.000000   \n",
       "\n",
       "       HistorySmoking  HistoryHTN   HistoryDLD  HistoryObesity     DLDmeds  \\\n",
       "count      491.000000   491.000000  491.000000      491.000000  491.000000   \n",
       "mean         0.152749     0.682281    0.645621        0.505092    0.551935   \n",
       "std          0.360113     0.466064    0.478812        0.500484    0.497803   \n",
       "min          0.000000     0.000000    0.000000        0.000000    0.000000   \n",
       "25%          0.000000     0.000000    0.000000        0.000000    0.000000   \n",
       "50%          0.000000     1.000000    1.000000        1.000000    1.000000   \n",
       "75%          0.000000     1.000000    1.000000        1.000000    1.000000   \n",
       "max          1.000000     1.000000    1.000000        1.000000    1.000000   \n",
       "\n",
       "           DMmeds     HTNmeds     ACEIARB  CholesterolBaseline  \\\n",
       "count  491.000000  491.000000  491.000000           491.000000   \n",
       "mean     0.327902    0.617108    0.446029             4.978574   \n",
       "std      0.469928    0.486588    0.497586             1.096702   \n",
       "min      0.000000    0.000000    0.000000             2.230000   \n",
       "25%      0.000000    0.000000    0.000000             4.200000   \n",
       "50%      0.000000    1.000000    0.000000             5.000000   \n",
       "75%      1.000000    1.000000    1.000000             5.770000   \n",
       "max      1.000000    1.000000    1.000000             9.300000   \n",
       "\n",
       "       CreatinineBaseline  eGFRBaseline  sBPBaseline  dBPBaseline  \\\n",
       "count          491.000000    491.000000   491.000000   491.000000   \n",
       "mean            67.856823     98.116090   131.374745    76.871690   \n",
       "std             17.918627     18.503267    15.692650    10.711134   \n",
       "min              6.000000     60.000000    92.000000    41.000000   \n",
       "25%             55.000000     86.400000   121.000000    69.000000   \n",
       "50%             66.000000     98.100000   131.000000    77.000000   \n",
       "75%             78.500000    109.500000   141.000000    83.000000   \n",
       "max            123.000000    242.600000   180.000000   112.000000   \n",
       "\n",
       "       BMIBaseline  EventCKD35  \n",
       "count   491.000000  491.000000  \n",
       "mean     30.183299    0.114053  \n",
       "std       6.236742    0.318200  \n",
       "min      13.000000    0.000000  \n",
       "25%      26.000000    0.000000  \n",
       "50%      30.000000    0.000000  \n",
       "75%      33.000000    0.000000  \n",
       "max      57.000000    1.000000  "
      ]
     },
     "execution_count": 5,
     "metadata": {},
     "output_type": "execute_result"
    }
   ],
   "source": [
    "# Menampilkan ringkasan statistik dataset\n",
    "data.describe()"
   ]
  },
  {
   "cell_type": "code",
   "execution_count": 6,
   "metadata": {
    "colab": {
     "base_uri": "https://localhost:8080/"
    },
    "id": "A3RuYdEBRQfz",
    "outputId": "3b344c57-0fc9-4450-913c-7b9bb9841c7c"
   },
   "outputs": [
    {
     "data": {
      "text/plain": [
       "Sex                    0\n",
       "AgeBaseline            0\n",
       "HistoryDiabetes        0\n",
       "HistoryCHD             0\n",
       "HistoryVascular        0\n",
       "HistorySmoking         0\n",
       "HistoryHTN             0\n",
       "HistoryDLD             0\n",
       "HistoryObesity         0\n",
       "DLDmeds                0\n",
       "DMmeds                 0\n",
       "HTNmeds                0\n",
       "ACEIARB                0\n",
       "CholesterolBaseline    0\n",
       "CreatinineBaseline     0\n",
       "eGFRBaseline           0\n",
       "sBPBaseline            0\n",
       "dBPBaseline            0\n",
       "BMIBaseline            0\n",
       "EventCKD35             0\n",
       "dtype: int64"
      ]
     },
     "execution_count": 6,
     "metadata": {},
     "output_type": "execute_result"
    }
   ],
   "source": [
    "# Menampilkan jumlah nilai yang hilang (missing values) dalam dataset\n",
    "data.isna().sum()"
   ]
  },
  {
   "cell_type": "code",
   "execution_count": 7,
   "metadata": {
    "colab": {
     "base_uri": "https://localhost:8080/"
    },
    "id": "Z3ZCuJA3RW-6",
    "outputId": "59352444-6796-4297-88c9-20e113ab1b7f"
   },
   "outputs": [
    {
     "data": {
      "text/plain": [
       "0"
      ]
     },
     "execution_count": 7,
     "metadata": {},
     "output_type": "execute_result"
    }
   ],
   "source": [
    "# Menampilkan jumlah duplikat dalam dataset\n",
    "data.duplicated().sum()"
   ]
  },
  {
   "cell_type": "code",
   "execution_count": 8,
   "metadata": {
    "colab": {
     "base_uri": "https://localhost:8080/"
    },
    "id": "mcQU_d0QihRu",
    "outputId": "a0bc99fe-1a62-4bd9-e632-24384828da7d"
   },
   "outputs": [
    {
     "data": {
      "text/plain": [
       "0    435\n",
       "1     56\n",
       "Name: EventCKD35, dtype: int64"
      ]
     },
     "execution_count": 8,
     "metadata": {},
     "output_type": "execute_result"
    }
   ],
   "source": [
    "# Menampilkan jumlah nilai pada kolom 'EventCKD35'\n",
    "data['EventCKD35'].value_counts()"
   ]
  },
  {
   "cell_type": "markdown",
   "metadata": {
    "id": "FPgsnMTOSpHt"
   },
   "source": [
    "# Splitting data between categoric values and numeric values"
   ]
  },
  {
   "cell_type": "code",
   "execution_count": 9,
   "metadata": {
    "id": "0q5c4H9oSkAh"
   },
   "outputs": [],
   "source": [
    "num_col=['AgeBaseline','CholesterolBaseline','CreatinineBaseline','eGFRBaseline','sBPBaseline','dBPBaseline','BMIBaseline']\n",
    "cat_col=list(set(data.columns)-set(num_col))"
   ]
  },
  {
   "cell_type": "code",
   "execution_count": 10,
   "metadata": {
    "colab": {
     "base_uri": "https://localhost:8080/"
    },
    "id": "Y3x2zIEhTlPp",
    "outputId": "67d67fbc-4316-4f60-93fc-a67e1ca9c53e"
   },
   "outputs": [
    {
     "data": {
      "text/plain": [
       "['AgeBaseline',\n",
       " 'CholesterolBaseline',\n",
       " 'CreatinineBaseline',\n",
       " 'eGFRBaseline',\n",
       " 'sBPBaseline',\n",
       " 'dBPBaseline',\n",
       " 'BMIBaseline']"
      ]
     },
     "execution_count": 10,
     "metadata": {},
     "output_type": "execute_result"
    }
   ],
   "source": [
    "# Menentukan kolom numerik\n",
    "num_col"
   ]
  },
  {
   "cell_type": "code",
   "execution_count": 11,
   "metadata": {
    "colab": {
     "base_uri": "https://localhost:8080/"
    },
    "id": "XrqmwB1zUSGG",
    "outputId": "920be70a-d5c1-4a6d-d3c5-4c57c8821e3f"
   },
   "outputs": [
    {
     "data": {
      "text/plain": [
       "['HistoryDiabetes',\n",
       " 'HistoryObesity',\n",
       " 'HistoryDLD',\n",
       " 'DLDmeds',\n",
       " 'HistoryCHD',\n",
       " 'HistoryVascular',\n",
       " 'HistoryHTN ',\n",
       " 'HTNmeds',\n",
       " 'ACEIARB',\n",
       " 'Sex',\n",
       " 'EventCKD35',\n",
       " 'HistorySmoking',\n",
       " 'DMmeds']"
      ]
     },
     "execution_count": 11,
     "metadata": {},
     "output_type": "execute_result"
    }
   ],
   "source": [
    "# Menentukan kolom kategorikal\n",
    "cat_col"
   ]
  },
  {
   "cell_type": "code",
   "execution_count": 12,
   "metadata": {
    "id": "U3PErWY9UTri"
   },
   "outputs": [],
   "source": [
    "# Memisahkan kolom numerik dan kategorikal dalam dataset\n",
    "num_features=data.drop(cat_col,axis=1)\n",
    "cat_features=data.drop(num_col,axis=1)\n",
    "cat_features.drop(['EventCKD35'],axis=1,inplace=True)"
   ]
  },
  {
   "cell_type": "code",
   "execution_count": 13,
   "metadata": {
    "colab": {
     "base_uri": "https://localhost:8080/",
     "height": 0
    },
    "id": "KnEuKgDgUwAp",
    "outputId": "feb5f277-096a-451b-bd66-f75053119cd1"
   },
   "outputs": [
    {
     "data": {
      "text/html": [
       "<div>\n",
       "<style scoped>\n",
       "    .dataframe tbody tr th:only-of-type {\n",
       "        vertical-align: middle;\n",
       "    }\n",
       "\n",
       "    .dataframe tbody tr th {\n",
       "        vertical-align: top;\n",
       "    }\n",
       "\n",
       "    .dataframe thead th {\n",
       "        text-align: right;\n",
       "    }\n",
       "</style>\n",
       "<table border=\"1\" class=\"dataframe\">\n",
       "  <thead>\n",
       "    <tr style=\"text-align: right;\">\n",
       "      <th></th>\n",
       "      <th>AgeBaseline</th>\n",
       "      <th>CholesterolBaseline</th>\n",
       "      <th>CreatinineBaseline</th>\n",
       "      <th>eGFRBaseline</th>\n",
       "      <th>sBPBaseline</th>\n",
       "      <th>dBPBaseline</th>\n",
       "      <th>BMIBaseline</th>\n",
       "    </tr>\n",
       "  </thead>\n",
       "  <tbody>\n",
       "    <tr>\n",
       "      <th>0</th>\n",
       "      <td>64</td>\n",
       "      <td>4.80</td>\n",
       "      <td>59.0</td>\n",
       "      <td>93.3</td>\n",
       "      <td>144</td>\n",
       "      <td>87</td>\n",
       "      <td>40</td>\n",
       "    </tr>\n",
       "    <tr>\n",
       "      <th>1</th>\n",
       "      <td>52</td>\n",
       "      <td>6.40</td>\n",
       "      <td>52.0</td>\n",
       "      <td>105.8</td>\n",
       "      <td>148</td>\n",
       "      <td>91</td>\n",
       "      <td>45</td>\n",
       "    </tr>\n",
       "    <tr>\n",
       "      <th>2</th>\n",
       "      <td>56</td>\n",
       "      <td>6.40</td>\n",
       "      <td>57.0</td>\n",
       "      <td>99.8</td>\n",
       "      <td>149</td>\n",
       "      <td>86</td>\n",
       "      <td>41</td>\n",
       "    </tr>\n",
       "    <tr>\n",
       "      <th>3</th>\n",
       "      <td>58</td>\n",
       "      <td>5.10</td>\n",
       "      <td>65.0</td>\n",
       "      <td>90.3</td>\n",
       "      <td>116</td>\n",
       "      <td>68</td>\n",
       "      <td>32</td>\n",
       "    </tr>\n",
       "    <tr>\n",
       "      <th>4</th>\n",
       "      <td>63</td>\n",
       "      <td>5.00</td>\n",
       "      <td>70.0</td>\n",
       "      <td>79.7</td>\n",
       "      <td>132</td>\n",
       "      <td>63</td>\n",
       "      <td>31</td>\n",
       "    </tr>\n",
       "    <tr>\n",
       "      <th>...</th>\n",
       "      <td>...</td>\n",
       "      <td>...</td>\n",
       "      <td>...</td>\n",
       "      <td>...</td>\n",
       "      <td>...</td>\n",
       "      <td>...</td>\n",
       "      <td>...</td>\n",
       "    </tr>\n",
       "    <tr>\n",
       "      <th>486</th>\n",
       "      <td>25</td>\n",
       "      <td>5.30</td>\n",
       "      <td>73.0</td>\n",
       "      <td>122.6</td>\n",
       "      <td>127</td>\n",
       "      <td>74</td>\n",
       "      <td>24</td>\n",
       "    </tr>\n",
       "    <tr>\n",
       "      <th>487</th>\n",
       "      <td>45</td>\n",
       "      <td>5.90</td>\n",
       "      <td>67.0</td>\n",
       "      <td>110.3</td>\n",
       "      <td>150</td>\n",
       "      <td>112</td>\n",
       "      <td>33</td>\n",
       "    </tr>\n",
       "    <tr>\n",
       "      <th>488</th>\n",
       "      <td>44</td>\n",
       "      <td>6.41</td>\n",
       "      <td>66.3</td>\n",
       "      <td>111.6</td>\n",
       "      <td>126</td>\n",
       "      <td>83</td>\n",
       "      <td>35</td>\n",
       "    </tr>\n",
       "    <tr>\n",
       "      <th>489</th>\n",
       "      <td>41</td>\n",
       "      <td>4.00</td>\n",
       "      <td>93.0</td>\n",
       "      <td>87.6</td>\n",
       "      <td>119</td>\n",
       "      <td>66</td>\n",
       "      <td>22</td>\n",
       "    </tr>\n",
       "    <tr>\n",
       "      <th>490</th>\n",
       "      <td>24</td>\n",
       "      <td>2.23</td>\n",
       "      <td>65.0</td>\n",
       "      <td>129.5</td>\n",
       "      <td>121</td>\n",
       "      <td>55</td>\n",
       "      <td>21</td>\n",
       "    </tr>\n",
       "  </tbody>\n",
       "</table>\n",
       "<p>491 rows × 7 columns</p>\n",
       "</div>"
      ],
      "text/plain": [
       "     AgeBaseline  CholesterolBaseline  CreatinineBaseline  eGFRBaseline  \\\n",
       "0             64                 4.80                59.0          93.3   \n",
       "1             52                 6.40                52.0         105.8   \n",
       "2             56                 6.40                57.0          99.8   \n",
       "3             58                 5.10                65.0          90.3   \n",
       "4             63                 5.00                70.0          79.7   \n",
       "..           ...                  ...                 ...           ...   \n",
       "486           25                 5.30                73.0         122.6   \n",
       "487           45                 5.90                67.0         110.3   \n",
       "488           44                 6.41                66.3         111.6   \n",
       "489           41                 4.00                93.0          87.6   \n",
       "490           24                 2.23                65.0         129.5   \n",
       "\n",
       "     sBPBaseline  dBPBaseline  BMIBaseline  \n",
       "0            144           87           40  \n",
       "1            148           91           45  \n",
       "2            149           86           41  \n",
       "3            116           68           32  \n",
       "4            132           63           31  \n",
       "..           ...          ...          ...  \n",
       "486          127           74           24  \n",
       "487          150          112           33  \n",
       "488          126           83           35  \n",
       "489          119           66           22  \n",
       "490          121           55           21  \n",
       "\n",
       "[491 rows x 7 columns]"
      ]
     },
     "execution_count": 13,
     "metadata": {},
     "output_type": "execute_result"
    }
   ],
   "source": [
    "num_features"
   ]
  },
  {
   "cell_type": "code",
   "execution_count": 14,
   "metadata": {
    "colab": {
     "base_uri": "https://localhost:8080/",
     "height": 0
    },
    "id": "lnDNtuKhUxSl",
    "outputId": "fe72371c-3fed-49e4-fe24-68d0944aab25"
   },
   "outputs": [
    {
     "data": {
      "text/html": [
       "<div>\n",
       "<style scoped>\n",
       "    .dataframe tbody tr th:only-of-type {\n",
       "        vertical-align: middle;\n",
       "    }\n",
       "\n",
       "    .dataframe tbody tr th {\n",
       "        vertical-align: top;\n",
       "    }\n",
       "\n",
       "    .dataframe thead th {\n",
       "        text-align: right;\n",
       "    }\n",
       "</style>\n",
       "<table border=\"1\" class=\"dataframe\">\n",
       "  <thead>\n",
       "    <tr style=\"text-align: right;\">\n",
       "      <th></th>\n",
       "      <th>Sex</th>\n",
       "      <th>HistoryDiabetes</th>\n",
       "      <th>HistoryCHD</th>\n",
       "      <th>HistoryVascular</th>\n",
       "      <th>HistorySmoking</th>\n",
       "      <th>HistoryHTN</th>\n",
       "      <th>HistoryDLD</th>\n",
       "      <th>HistoryObesity</th>\n",
       "      <th>DLDmeds</th>\n",
       "      <th>DMmeds</th>\n",
       "      <th>HTNmeds</th>\n",
       "      <th>ACEIARB</th>\n",
       "    </tr>\n",
       "  </thead>\n",
       "  <tbody>\n",
       "    <tr>\n",
       "      <th>0</th>\n",
       "      <td>0</td>\n",
       "      <td>0</td>\n",
       "      <td>0</td>\n",
       "      <td>0</td>\n",
       "      <td>0</td>\n",
       "      <td>1</td>\n",
       "      <td>1</td>\n",
       "      <td>1</td>\n",
       "      <td>1</td>\n",
       "      <td>0</td>\n",
       "      <td>1</td>\n",
       "      <td>0</td>\n",
       "    </tr>\n",
       "    <tr>\n",
       "      <th>1</th>\n",
       "      <td>0</td>\n",
       "      <td>0</td>\n",
       "      <td>0</td>\n",
       "      <td>0</td>\n",
       "      <td>0</td>\n",
       "      <td>1</td>\n",
       "      <td>1</td>\n",
       "      <td>1</td>\n",
       "      <td>0</td>\n",
       "      <td>0</td>\n",
       "      <td>1</td>\n",
       "      <td>0</td>\n",
       "    </tr>\n",
       "    <tr>\n",
       "      <th>2</th>\n",
       "      <td>0</td>\n",
       "      <td>0</td>\n",
       "      <td>0</td>\n",
       "      <td>0</td>\n",
       "      <td>0</td>\n",
       "      <td>1</td>\n",
       "      <td>1</td>\n",
       "      <td>1</td>\n",
       "      <td>1</td>\n",
       "      <td>0</td>\n",
       "      <td>1</td>\n",
       "      <td>0</td>\n",
       "    </tr>\n",
       "    <tr>\n",
       "      <th>3</th>\n",
       "      <td>0</td>\n",
       "      <td>0</td>\n",
       "      <td>0</td>\n",
       "      <td>0</td>\n",
       "      <td>0</td>\n",
       "      <td>0</td>\n",
       "      <td>1</td>\n",
       "      <td>1</td>\n",
       "      <td>1</td>\n",
       "      <td>0</td>\n",
       "      <td>0</td>\n",
       "      <td>0</td>\n",
       "    </tr>\n",
       "    <tr>\n",
       "      <th>4</th>\n",
       "      <td>0</td>\n",
       "      <td>1</td>\n",
       "      <td>0</td>\n",
       "      <td>0</td>\n",
       "      <td>0</td>\n",
       "      <td>1</td>\n",
       "      <td>1</td>\n",
       "      <td>1</td>\n",
       "      <td>1</td>\n",
       "      <td>1</td>\n",
       "      <td>1</td>\n",
       "      <td>1</td>\n",
       "    </tr>\n",
       "    <tr>\n",
       "      <th>...</th>\n",
       "      <td>...</td>\n",
       "      <td>...</td>\n",
       "      <td>...</td>\n",
       "      <td>...</td>\n",
       "      <td>...</td>\n",
       "      <td>...</td>\n",
       "      <td>...</td>\n",
       "      <td>...</td>\n",
       "      <td>...</td>\n",
       "      <td>...</td>\n",
       "      <td>...</td>\n",
       "      <td>...</td>\n",
       "    </tr>\n",
       "    <tr>\n",
       "      <th>486</th>\n",
       "      <td>1</td>\n",
       "      <td>0</td>\n",
       "      <td>0</td>\n",
       "      <td>0</td>\n",
       "      <td>0</td>\n",
       "      <td>0</td>\n",
       "      <td>0</td>\n",
       "      <td>0</td>\n",
       "      <td>0</td>\n",
       "      <td>0</td>\n",
       "      <td>0</td>\n",
       "      <td>0</td>\n",
       "    </tr>\n",
       "    <tr>\n",
       "      <th>487</th>\n",
       "      <td>1</td>\n",
       "      <td>0</td>\n",
       "      <td>0</td>\n",
       "      <td>0</td>\n",
       "      <td>0</td>\n",
       "      <td>1</td>\n",
       "      <td>0</td>\n",
       "      <td>1</td>\n",
       "      <td>0</td>\n",
       "      <td>0</td>\n",
       "      <td>0</td>\n",
       "      <td>0</td>\n",
       "    </tr>\n",
       "    <tr>\n",
       "      <th>488</th>\n",
       "      <td>1</td>\n",
       "      <td>1</td>\n",
       "      <td>0</td>\n",
       "      <td>0</td>\n",
       "      <td>0</td>\n",
       "      <td>0</td>\n",
       "      <td>1</td>\n",
       "      <td>1</td>\n",
       "      <td>1</td>\n",
       "      <td>1</td>\n",
       "      <td>0</td>\n",
       "      <td>0</td>\n",
       "    </tr>\n",
       "    <tr>\n",
       "      <th>489</th>\n",
       "      <td>1</td>\n",
       "      <td>0</td>\n",
       "      <td>0</td>\n",
       "      <td>1</td>\n",
       "      <td>1</td>\n",
       "      <td>1</td>\n",
       "      <td>1</td>\n",
       "      <td>0</td>\n",
       "      <td>1</td>\n",
       "      <td>0</td>\n",
       "      <td>1</td>\n",
       "      <td>1</td>\n",
       "    </tr>\n",
       "    <tr>\n",
       "      <th>490</th>\n",
       "      <td>1</td>\n",
       "      <td>0</td>\n",
       "      <td>0</td>\n",
       "      <td>0</td>\n",
       "      <td>0</td>\n",
       "      <td>0</td>\n",
       "      <td>0</td>\n",
       "      <td>0</td>\n",
       "      <td>0</td>\n",
       "      <td>0</td>\n",
       "      <td>0</td>\n",
       "      <td>0</td>\n",
       "    </tr>\n",
       "  </tbody>\n",
       "</table>\n",
       "<p>491 rows × 12 columns</p>\n",
       "</div>"
      ],
      "text/plain": [
       "     Sex  HistoryDiabetes  HistoryCHD  HistoryVascular  HistorySmoking  \\\n",
       "0      0                0           0                0               0   \n",
       "1      0                0           0                0               0   \n",
       "2      0                0           0                0               0   \n",
       "3      0                0           0                0               0   \n",
       "4      0                1           0                0               0   \n",
       "..   ...              ...         ...              ...             ...   \n",
       "486    1                0           0                0               0   \n",
       "487    1                0           0                0               0   \n",
       "488    1                1           0                0               0   \n",
       "489    1                0           0                1               1   \n",
       "490    1                0           0                0               0   \n",
       "\n",
       "     HistoryHTN   HistoryDLD  HistoryObesity  DLDmeds  DMmeds  HTNmeds  \\\n",
       "0              1           1               1        1       0        1   \n",
       "1              1           1               1        0       0        1   \n",
       "2              1           1               1        1       0        1   \n",
       "3              0           1               1        1       0        0   \n",
       "4              1           1               1        1       1        1   \n",
       "..           ...         ...             ...      ...     ...      ...   \n",
       "486            0           0               0        0       0        0   \n",
       "487            1           0               1        0       0        0   \n",
       "488            0           1               1        1       1        0   \n",
       "489            1           1               0        1       0        1   \n",
       "490            0           0               0        0       0        0   \n",
       "\n",
       "     ACEIARB  \n",
       "0          0  \n",
       "1          0  \n",
       "2          0  \n",
       "3          0  \n",
       "4          1  \n",
       "..       ...  \n",
       "486        0  \n",
       "487        0  \n",
       "488        0  \n",
       "489        1  \n",
       "490        0  \n",
       "\n",
       "[491 rows x 12 columns]"
      ]
     },
     "execution_count": 14,
     "metadata": {},
     "output_type": "execute_result"
    }
   ],
   "source": [
    "cat_features"
   ]
  },
  {
   "cell_type": "code",
   "execution_count": 15,
   "metadata": {
    "colab": {
     "base_uri": "https://localhost:8080/"
    },
    "id": "WAOQ25VkUy5Q",
    "outputId": "b89385e1-90bb-4c39-e13b-37685ea3402f"
   },
   "outputs": [
    {
     "data": {
      "text/plain": [
       "0      0\n",
       "1      0\n",
       "2      0\n",
       "3      0\n",
       "4      0\n",
       "      ..\n",
       "486    0\n",
       "487    0\n",
       "488    0\n",
       "489    1\n",
       "490    0\n",
       "Name: EventCKD35, Length: 491, dtype: int64"
      ]
     },
     "execution_count": 15,
     "metadata": {},
     "output_type": "execute_result"
    }
   ],
   "source": [
    "target=data['EventCKD35']\n",
    "target"
   ]
  },
  {
   "cell_type": "markdown",
   "metadata": {
    "id": "6SWbc9FMWAbE"
   },
   "source": [
    "# Visualisasi Data"
   ]
  },
  {
   "cell_type": "code",
   "execution_count": 16,
   "metadata": {
    "colab": {
     "base_uri": "https://localhost:8080/",
     "height": 0
    },
    "id": "hqqi98x7V3b_",
    "outputId": "3acee9b4-f9ac-404b-a97a-ed3241e96735"
   },
   "outputs": [
    {
     "data": {
      "image/png": "[encoded data removed]",
      "text/plain": [
       "<Figure size 1400x900 with 1 Axes>"
      ]
     },
     "metadata": {},
     "output_type": "display_data"
    }
   ],
   "source": [
    "# Box plot\n",
    "plt.figure(figsize=(14,9))\n",
    "sns.boxplot(data=num_features)\n",
    "plt.show()"
   ]
  },
  {
   "cell_type": "code",
   "execution_count": 17,
   "metadata": {
    "colab": {
     "base_uri": "https://localhost:8080/",
     "height": 0
    },
    "id": "nlzAu6wLM-vJ",
    "outputId": "92eb8e7c-98c4-481c-b70f-be310eb3691d"
   },
   "outputs": [
    {
     "data": {
      "image/png": "[encoded data removed]",
      "text/plain": [
       "<Figure size 1500x1000 with 2 Axes>"
      ]
     },
     "metadata": {},
     "output_type": "display_data"
    }
   ],
   "source": [
    "corr = data.corr()\n",
    "plt.subplots(figsize=(15,10))\n",
    "sns.heatmap(corr, vmin=-1, center=0, vmax=1, annot=True)\n",
    "plt.show()"
   ]
  },
  {
   "cell_type": "code",
   "execution_count": 18,
   "metadata": {
    "colab": {
     "base_uri": "https://localhost:8080/",
     "height": 0
    },
    "id": "gqWRpgVvWJkO",
    "outputId": "ff726aa4-7cbf-4807-c0b8-2e094e81899d"
   },
   "outputs": [
    {
     "data": {
      "image/png": "[encoded data removed]",
      "text/plain": [
       "<Figure size 1400x900 with 1 Axes>"
      ]
     },
     "metadata": {},
     "output_type": "display_data"
    }
   ],
   "source": [
    "# Histogram \n",
    "plt.figure(figsize=(14,9))\n",
    "sns.histplot(data=num_features)\n",
    "plt.show()"
   ]
  },
  {
   "cell_type": "markdown",
   "metadata": {
    "id": "kFymWfzaSAOu"
   },
   "source": [
    "# Handling Outlier /Jangan di run untuk sementara"
   ]
  },
  {
   "cell_type": "code",
   "execution_count": null,
   "metadata": {
    "colab": {
     "base_uri": "https://localhost:8080/"
    },
    "id": "J_6vhskQSCxJ",
    "outputId": "bd3cbd9e-28dc-4e13-aec9-fa04aedf3bba"
   },
   "outputs": [],
   "source": [
    "#define IQR to remove data outlier\n",
    "Q1 = num_features.quantile(q=.25)\n",
    "Q3 = num_features.quantile(q=.75)\n",
    "IQR = Q3 - Q1\n",
    "print(IQR)"
   ]
  },
  {
   "cell_type": "code",
   "execution_count": null,
   "metadata": {
    "colab": {
     "base_uri": "https://localhost:8080/"
    },
    "id": "L9lKo-0NSYWo",
    "outputId": "9e086af3-bfbd-42b0-8183-f961c5821431"
   },
   "outputs": [],
   "source": [
    "# Menghapus outlier berdasarkan IQR\n",
    "num_features = num_features[~((num_features<(Q1-1.5*IQR)) | (num_features>(Q3+1.5*IQR)))]\n",
    "num_features"
   ]
  },
  {
   "cell_type": "code",
   "execution_count": null,
   "metadata": {
    "colab": {
     "base_uri": "https://localhost:8080/"
    },
    "id": "3zBP9Q-6Sf54",
    "outputId": "233c39c0-6eff-4682-a853-c0b648d8f617"
   },
   "outputs": [],
   "source": [
    "num_features.isna().sum()"
   ]
  },
  {
   "cell_type": "code",
   "execution_count": null,
   "metadata": {
    "colab": {
     "base_uri": "https://localhost:8080/"
    },
    "id": "mxPvX4lKSkE_",
    "outputId": "87fbcf74-c963-4750-81e2-0b3d51e373ac"
   },
   "outputs": [],
   "source": [
    "# Mengisi missing values dengan interpolasi linear\n",
    "num_features.interpolate(method='linear',axis=0,inplace=True)\n",
    "num_features"
   ]
  },
  {
   "cell_type": "code",
   "execution_count": null,
   "metadata": {
    "colab": {
     "base_uri": "https://localhost:8080/"
    },
    "id": "fWXSqG4QUD7t",
    "outputId": "d2e34a5f-e660-4d0c-b0d9-f4bad5def722"
   },
   "outputs": [],
   "source": [
    "num_features.isna().sum()"
   ]
  },
  {
   "cell_type": "code",
   "execution_count": null,
   "metadata": {
    "colab": {
     "base_uri": "https://localhost:8080/"
    },
    "id": "nSfbPZx6UFg2",
    "outputId": "067016cf-88fe-4305-acb1-fa76ce386950"
   },
   "outputs": [],
   "source": [
    "# Menampilkan box plot setelah mengatasi outlier\n",
    "plt.figure(figsize=(14,9))\n",
    "sns.boxplot(data=num_features)\n",
    "plt.show()"
   ]
  },
  {
   "cell_type": "markdown",
   "metadata": {
    "id": "YnVPmcSSXjGk"
   },
   "source": [
    "# Feature Selection Univariate /Pilih salah satu"
   ]
  },
  {
   "cell_type": "code",
   "execution_count": 19,
   "metadata": {
    "id": "PCnTruUWWphM"
   },
   "outputs": [],
   "source": [
    "from sklearn.feature_selection import SelectKBest, f_classif,chi2"
   ]
  },
  {
   "cell_type": "code",
   "execution_count": 20,
   "metadata": {
    "colab": {
     "base_uri": "https://localhost:8080/",
     "height": 0
    },
    "id": "qBqnRwsJYBI0",
    "outputId": "902613dd-8a4e-4fc5-b1c0-ac44a3c84bea"
   },
   "outputs": [
    {
     "data": {
      "image/png": "[encoded data removed]",
      "text/plain": [
       "<Figure size 1400x900 with 1 Axes>"
      ]
     },
     "metadata": {},
     "output_type": "display_data"
    }
   ],
   "source": [
    "# Seleksi fitur menggunakan SelectKBest dan chi-square\n",
    "selector = SelectKBest(score_func=chi2, k='all')\n",
    "X_new = selector.fit(cat_features, target)\n",
    "dfscores=pd.DataFrame(X_new.scores_)\n",
    "dfcolumns=pd.DataFrame(cat_features.columns)\n",
    "featureScores=pd.concat([dfcolumns,dfscores],axis=1)\n",
    "featureScores.columns=['Feature','Scores']\n",
    "# Visualisasi skor fitur\n",
    "plt.figure(figsize=(14,9))\n",
    "sns.barplot(x=featureScores['Feature'],y=featureScores['Scores'])\n",
    "plt.show()"
   ]
  },
  {
   "cell_type": "code",
   "execution_count": 21,
   "metadata": {
    "colab": {
     "base_uri": "https://localhost:8080/"
    },
    "id": "1KXlUETxYdjj",
    "outputId": "b078f40b-84c3-4a69-e188-2bca39175ec1"
   },
   "outputs": [
    {
     "data": {
      "text/plain": [
       "6"
      ]
     },
     "execution_count": 21,
     "metadata": {},
     "output_type": "execute_result"
    }
   ],
   "source": [
    "# Seleksi fitur berdasarkan skor chi-square yang lebih besar dari 5\n",
    "index_list=list(dfscores.index)\n",
    "good_col=[]\n",
    "for i in index_list:\n",
    "    if dfscores[0][i] >5:\n",
    "        good_col.append(dfscores[0][i])\n",
    "len(good_col)"
   ]
  },
  {
   "cell_type": "code",
   "execution_count": 22,
   "metadata": {
    "colab": {
     "base_uri": "https://localhost:8080/",
     "height": 0
    },
    "id": "kkmfTIpZYk72",
    "outputId": "eded3bf5-e2e2-4da3-c0de-12e79557e173"
   },
   "outputs": [
    {
     "data": {
      "text/html": [
       "<div>\n",
       "<style scoped>\n",
       "    .dataframe tbody tr th:only-of-type {\n",
       "        vertical-align: middle;\n",
       "    }\n",
       "\n",
       "    .dataframe tbody tr th {\n",
       "        vertical-align: top;\n",
       "    }\n",
       "\n",
       "    .dataframe thead th {\n",
       "        text-align: right;\n",
       "    }\n",
       "</style>\n",
       "<table border=\"1\" class=\"dataframe\">\n",
       "  <thead>\n",
       "    <tr style=\"text-align: right;\">\n",
       "      <th></th>\n",
       "      <th>HistoryDiabetes</th>\n",
       "      <th>HistoryCHD</th>\n",
       "      <th>DLDmeds</th>\n",
       "      <th>DMmeds</th>\n",
       "      <th>HTNmeds</th>\n",
       "      <th>ACEIARB</th>\n",
       "    </tr>\n",
       "  </thead>\n",
       "  <tbody>\n",
       "    <tr>\n",
       "      <th>0</th>\n",
       "      <td>0</td>\n",
       "      <td>0</td>\n",
       "      <td>1</td>\n",
       "      <td>0</td>\n",
       "      <td>1</td>\n",
       "      <td>0</td>\n",
       "    </tr>\n",
       "    <tr>\n",
       "      <th>1</th>\n",
       "      <td>0</td>\n",
       "      <td>0</td>\n",
       "      <td>0</td>\n",
       "      <td>0</td>\n",
       "      <td>1</td>\n",
       "      <td>0</td>\n",
       "    </tr>\n",
       "    <tr>\n",
       "      <th>2</th>\n",
       "      <td>0</td>\n",
       "      <td>0</td>\n",
       "      <td>1</td>\n",
       "      <td>0</td>\n",
       "      <td>1</td>\n",
       "      <td>0</td>\n",
       "    </tr>\n",
       "    <tr>\n",
       "      <th>3</th>\n",
       "      <td>0</td>\n",
       "      <td>0</td>\n",
       "      <td>1</td>\n",
       "      <td>0</td>\n",
       "      <td>0</td>\n",
       "      <td>0</td>\n",
       "    </tr>\n",
       "    <tr>\n",
       "      <th>4</th>\n",
       "      <td>1</td>\n",
       "      <td>0</td>\n",
       "      <td>1</td>\n",
       "      <td>1</td>\n",
       "      <td>1</td>\n",
       "      <td>1</td>\n",
       "    </tr>\n",
       "    <tr>\n",
       "      <th>...</th>\n",
       "      <td>...</td>\n",
       "      <td>...</td>\n",
       "      <td>...</td>\n",
       "      <td>...</td>\n",
       "      <td>...</td>\n",
       "      <td>...</td>\n",
       "    </tr>\n",
       "    <tr>\n",
       "      <th>486</th>\n",
       "      <td>0</td>\n",
       "      <td>0</td>\n",
       "      <td>0</td>\n",
       "      <td>0</td>\n",
       "      <td>0</td>\n",
       "      <td>0</td>\n",
       "    </tr>\n",
       "    <tr>\n",
       "      <th>487</th>\n",
       "      <td>0</td>\n",
       "      <td>0</td>\n",
       "      <td>0</td>\n",
       "      <td>0</td>\n",
       "      <td>0</td>\n",
       "      <td>0</td>\n",
       "    </tr>\n",
       "    <tr>\n",
       "      <th>488</th>\n",
       "      <td>1</td>\n",
       "      <td>0</td>\n",
       "      <td>1</td>\n",
       "      <td>1</td>\n",
       "      <td>0</td>\n",
       "      <td>0</td>\n",
       "    </tr>\n",
       "    <tr>\n",
       "      <th>489</th>\n",
       "      <td>0</td>\n",
       "      <td>0</td>\n",
       "      <td>1</td>\n",
       "      <td>0</td>\n",
       "      <td>1</td>\n",
       "      <td>1</td>\n",
       "    </tr>\n",
       "    <tr>\n",
       "      <th>490</th>\n",
       "      <td>0</td>\n",
       "      <td>0</td>\n",
       "      <td>0</td>\n",
       "      <td>0</td>\n",
       "      <td>0</td>\n",
       "      <td>0</td>\n",
       "    </tr>\n",
       "  </tbody>\n",
       "</table>\n",
       "<p>491 rows × 6 columns</p>\n",
       "</div>"
      ],
      "text/plain": [
       "     HistoryDiabetes  HistoryCHD  DLDmeds  DMmeds  HTNmeds  ACEIARB\n",
       "0                  0           0        1       0        1        0\n",
       "1                  0           0        0       0        1        0\n",
       "2                  0           0        1       0        1        0\n",
       "3                  0           0        1       0        0        0\n",
       "4                  1           0        1       1        1        1\n",
       "..               ...         ...      ...     ...      ...      ...\n",
       "486                0           0        0       0        0        0\n",
       "487                0           0        0       0        0        0\n",
       "488                1           0        1       1        0        0\n",
       "489                0           0        1       0        1        1\n",
       "490                0           0        0       0        0        0\n",
       "\n",
       "[491 rows x 6 columns]"
      ]
     },
     "execution_count": 22,
     "metadata": {},
     "output_type": "execute_result"
    }
   ],
   "source": [
    "# Seleksi fitur menggunakan SelectKBest dan ANOVA\n",
    "fs=SelectKBest(score_func=chi2,k=6)\n",
    "X_new=fs.fit_transform(cat_features,target)\n",
    "selected_num_features = cat_features.columns[fs.get_support()]\n",
    "cat_features=cat_features[selected_num_features]\n",
    "cat_features"
   ]
  },
  {
   "cell_type": "code",
   "execution_count": 23,
   "metadata": {
    "colab": {
     "base_uri": "https://localhost:8080/",
     "height": 0
    },
    "id": "PxMIVPYrY1Zq",
    "outputId": "7371ad6c-e9bc-4844-8ea4-df691caf728d"
   },
   "outputs": [
    {
     "data": {
      "image/png": "[encoded data removed]",
      "text/plain": [
       "<Figure size 1400x900 with 1 Axes>"
      ]
     },
     "metadata": {},
     "output_type": "display_data"
    }
   ],
   "source": [
    "selector = SelectKBest(score_func=f_classif, k='all')\n",
    "X_new = selector.fit(num_features, target)\n",
    "dfscores=pd.DataFrame(X_new.scores_)\n",
    "dfcolumns=pd.DataFrame(num_features.columns)\n",
    "featureScores=pd.concat([dfcolumns,dfscores],axis=1)\n",
    "featureScores.columns=['Feature','Scores']\n",
    "# Visualisasi skor fitur\n",
    "plt.figure(figsize=(14,9))\n",
    "sns.barplot(x=featureScores['Feature'],y=featureScores['Scores'])\n",
    "plt.show()"
   ]
  },
  {
   "cell_type": "code",
   "execution_count": 24,
   "metadata": {
    "colab": {
     "base_uri": "https://localhost:8080/"
    },
    "id": "XGCdvS8JZMQo",
    "outputId": "e3f8841b-70cd-477c-a38f-a2def8259dd9"
   },
   "outputs": [
    {
     "data": {
      "text/plain": [
       "4"
      ]
     },
     "execution_count": 24,
     "metadata": {},
     "output_type": "execute_result"
    }
   ],
   "source": [
    "# Seleksi fitur berdasarkan skor ANOVA yang lebih besar dari 10\n",
    "index_list=list(dfscores.index)\n",
    "good_col=[]\n",
    "for i in index_list:\n",
    "    if dfscores[0][i] >10:\n",
    "        good_col.append(dfscores[0][i])\n",
    "len(good_col)"
   ]
  },
  {
   "cell_type": "code",
   "execution_count": 25,
   "metadata": {
    "colab": {
     "base_uri": "https://localhost:8080/",
     "height": 0
    },
    "id": "94XEhT92ZTQc",
    "outputId": "d1620ff5-2c8e-4701-a312-7e5c674f94b6"
   },
   "outputs": [
    {
     "data": {
      "text/html": [
       "<div>\n",
       "<style scoped>\n",
       "    .dataframe tbody tr th:only-of-type {\n",
       "        vertical-align: middle;\n",
       "    }\n",
       "\n",
       "    .dataframe tbody tr th {\n",
       "        vertical-align: top;\n",
       "    }\n",
       "\n",
       "    .dataframe thead th {\n",
       "        text-align: right;\n",
       "    }\n",
       "</style>\n",
       "<table border=\"1\" class=\"dataframe\">\n",
       "  <thead>\n",
       "    <tr style=\"text-align: right;\">\n",
       "      <th></th>\n",
       "      <th>AgeBaseline</th>\n",
       "      <th>CholesterolBaseline</th>\n",
       "      <th>CreatinineBaseline</th>\n",
       "      <th>eGFRBaseline</th>\n",
       "    </tr>\n",
       "  </thead>\n",
       "  <tbody>\n",
       "    <tr>\n",
       "      <th>0</th>\n",
       "      <td>64</td>\n",
       "      <td>4.80</td>\n",
       "      <td>59.0</td>\n",
       "      <td>93.3</td>\n",
       "    </tr>\n",
       "    <tr>\n",
       "      <th>1</th>\n",
       "      <td>52</td>\n",
       "      <td>6.40</td>\n",
       "      <td>52.0</td>\n",
       "      <td>105.8</td>\n",
       "    </tr>\n",
       "    <tr>\n",
       "      <th>2</th>\n",
       "      <td>56</td>\n",
       "      <td>6.40</td>\n",
       "      <td>57.0</td>\n",
       "      <td>99.8</td>\n",
       "    </tr>\n",
       "    <tr>\n",
       "      <th>3</th>\n",
       "      <td>58</td>\n",
       "      <td>5.10</td>\n",
       "      <td>65.0</td>\n",
       "      <td>90.3</td>\n",
       "    </tr>\n",
       "    <tr>\n",
       "      <th>4</th>\n",
       "      <td>63</td>\n",
       "      <td>5.00</td>\n",
       "      <td>70.0</td>\n",
       "      <td>79.7</td>\n",
       "    </tr>\n",
       "    <tr>\n",
       "      <th>...</th>\n",
       "      <td>...</td>\n",
       "      <td>...</td>\n",
       "      <td>...</td>\n",
       "      <td>...</td>\n",
       "    </tr>\n",
       "    <tr>\n",
       "      <th>486</th>\n",
       "      <td>25</td>\n",
       "      <td>5.30</td>\n",
       "      <td>73.0</td>\n",
       "      <td>122.6</td>\n",
       "    </tr>\n",
       "    <tr>\n",
       "      <th>487</th>\n",
       "      <td>45</td>\n",
       "      <td>5.90</td>\n",
       "      <td>67.0</td>\n",
       "      <td>110.3</td>\n",
       "    </tr>\n",
       "    <tr>\n",
       "      <th>488</th>\n",
       "      <td>44</td>\n",
       "      <td>6.41</td>\n",
       "      <td>66.3</td>\n",
       "      <td>111.6</td>\n",
       "    </tr>\n",
       "    <tr>\n",
       "      <th>489</th>\n",
       "      <td>41</td>\n",
       "      <td>4.00</td>\n",
       "      <td>93.0</td>\n",
       "      <td>87.6</td>\n",
       "    </tr>\n",
       "    <tr>\n",
       "      <th>490</th>\n",
       "      <td>24</td>\n",
       "      <td>2.23</td>\n",
       "      <td>65.0</td>\n",
       "      <td>129.5</td>\n",
       "    </tr>\n",
       "  </tbody>\n",
       "</table>\n",
       "<p>491 rows × 4 columns</p>\n",
       "</div>"
      ],
      "text/plain": [
       "     AgeBaseline  CholesterolBaseline  CreatinineBaseline  eGFRBaseline\n",
       "0             64                 4.80                59.0          93.3\n",
       "1             52                 6.40                52.0         105.8\n",
       "2             56                 6.40                57.0          99.8\n",
       "3             58                 5.10                65.0          90.3\n",
       "4             63                 5.00                70.0          79.7\n",
       "..           ...                  ...                 ...           ...\n",
       "486           25                 5.30                73.0         122.6\n",
       "487           45                 5.90                67.0         110.3\n",
       "488           44                 6.41                66.3         111.6\n",
       "489           41                 4.00                93.0          87.6\n",
       "490           24                 2.23                65.0         129.5\n",
       "\n",
       "[491 rows x 4 columns]"
      ]
     },
     "execution_count": 25,
     "metadata": {},
     "output_type": "execute_result"
    }
   ],
   "source": [
    "# Seleksi fitur numerik yang memiliki skor ANOVA yang lebih besar dari 10\n",
    "fs=SelectKBest(score_func=f_classif,k=4)\n",
    "X_new=fs.fit_transform(num_features,target)\n",
    "selected_num_features = num_features.columns[fs.get_support()]\n",
    "num_features=num_features[selected_num_features]\n",
    "num_features"
   ]
  },
  {
   "cell_type": "code",
   "execution_count": 26,
   "metadata": {
    "colab": {
     "base_uri": "https://localhost:8080/",
     "height": 0
    },
    "id": "UR_AXSEkZeA8",
    "outputId": "b279353c-fa9a-4a18-b987-ebdb40a6e4ba"
   },
   "outputs": [
    {
     "data": {
      "text/html": [
       "<div>\n",
       "<style scoped>\n",
       "    .dataframe tbody tr th:only-of-type {\n",
       "        vertical-align: middle;\n",
       "    }\n",
       "\n",
       "    .dataframe tbody tr th {\n",
       "        vertical-align: top;\n",
       "    }\n",
       "\n",
       "    .dataframe thead th {\n",
       "        text-align: right;\n",
       "    }\n",
       "</style>\n",
       "<table border=\"1\" class=\"dataframe\">\n",
       "  <thead>\n",
       "    <tr style=\"text-align: right;\">\n",
       "      <th></th>\n",
       "      <th>AgeBaseline</th>\n",
       "      <th>CholesterolBaseline</th>\n",
       "      <th>CreatinineBaseline</th>\n",
       "      <th>eGFRBaseline</th>\n",
       "      <th>HistoryDiabetes</th>\n",
       "      <th>HistoryCHD</th>\n",
       "      <th>DLDmeds</th>\n",
       "      <th>DMmeds</th>\n",
       "      <th>HTNmeds</th>\n",
       "      <th>ACEIARB</th>\n",
       "      <th>EventCKD35</th>\n",
       "    </tr>\n",
       "  </thead>\n",
       "  <tbody>\n",
       "    <tr>\n",
       "      <th>0</th>\n",
       "      <td>64</td>\n",
       "      <td>4.80</td>\n",
       "      <td>59.0</td>\n",
       "      <td>93.3</td>\n",
       "      <td>0</td>\n",
       "      <td>0</td>\n",
       "      <td>1</td>\n",
       "      <td>0</td>\n",
       "      <td>1</td>\n",
       "      <td>0</td>\n",
       "      <td>0</td>\n",
       "    </tr>\n",
       "    <tr>\n",
       "      <th>1</th>\n",
       "      <td>52</td>\n",
       "      <td>6.40</td>\n",
       "      <td>52.0</td>\n",
       "      <td>105.8</td>\n",
       "      <td>0</td>\n",
       "      <td>0</td>\n",
       "      <td>0</td>\n",
       "      <td>0</td>\n",
       "      <td>1</td>\n",
       "      <td>0</td>\n",
       "      <td>0</td>\n",
       "    </tr>\n",
       "    <tr>\n",
       "      <th>2</th>\n",
       "      <td>56</td>\n",
       "      <td>6.40</td>\n",
       "      <td>57.0</td>\n",
       "      <td>99.8</td>\n",
       "      <td>0</td>\n",
       "      <td>0</td>\n",
       "      <td>1</td>\n",
       "      <td>0</td>\n",
       "      <td>1</td>\n",
       "      <td>0</td>\n",
       "      <td>0</td>\n",
       "    </tr>\n",
       "    <tr>\n",
       "      <th>3</th>\n",
       "      <td>58</td>\n",
       "      <td>5.10</td>\n",
       "      <td>65.0</td>\n",
       "      <td>90.3</td>\n",
       "      <td>0</td>\n",
       "      <td>0</td>\n",
       "      <td>1</td>\n",
       "      <td>0</td>\n",
       "      <td>0</td>\n",
       "      <td>0</td>\n",
       "      <td>0</td>\n",
       "    </tr>\n",
       "    <tr>\n",
       "      <th>4</th>\n",
       "      <td>63</td>\n",
       "      <td>5.00</td>\n",
       "      <td>70.0</td>\n",
       "      <td>79.7</td>\n",
       "      <td>1</td>\n",
       "      <td>0</td>\n",
       "      <td>1</td>\n",
       "      <td>1</td>\n",
       "      <td>1</td>\n",
       "      <td>1</td>\n",
       "      <td>0</td>\n",
       "    </tr>\n",
       "    <tr>\n",
       "      <th>...</th>\n",
       "      <td>...</td>\n",
       "      <td>...</td>\n",
       "      <td>...</td>\n",
       "      <td>...</td>\n",
       "      <td>...</td>\n",
       "      <td>...</td>\n",
       "      <td>...</td>\n",
       "      <td>...</td>\n",
       "      <td>...</td>\n",
       "      <td>...</td>\n",
       "      <td>...</td>\n",
       "    </tr>\n",
       "    <tr>\n",
       "      <th>486</th>\n",
       "      <td>25</td>\n",
       "      <td>5.30</td>\n",
       "      <td>73.0</td>\n",
       "      <td>122.6</td>\n",
       "      <td>0</td>\n",
       "      <td>0</td>\n",
       "      <td>0</td>\n",
       "      <td>0</td>\n",
       "      <td>0</td>\n",
       "      <td>0</td>\n",
       "      <td>0</td>\n",
       "    </tr>\n",
       "    <tr>\n",
       "      <th>487</th>\n",
       "      <td>45</td>\n",
       "      <td>5.90</td>\n",
       "      <td>67.0</td>\n",
       "      <td>110.3</td>\n",
       "      <td>0</td>\n",
       "      <td>0</td>\n",
       "      <td>0</td>\n",
       "      <td>0</td>\n",
       "      <td>0</td>\n",
       "      <td>0</td>\n",
       "      <td>0</td>\n",
       "    </tr>\n",
       "    <tr>\n",
       "      <th>488</th>\n",
       "      <td>44</td>\n",
       "      <td>6.41</td>\n",
       "      <td>66.3</td>\n",
       "      <td>111.6</td>\n",
       "      <td>1</td>\n",
       "      <td>0</td>\n",
       "      <td>1</td>\n",
       "      <td>1</td>\n",
       "      <td>0</td>\n",
       "      <td>0</td>\n",
       "      <td>0</td>\n",
       "    </tr>\n",
       "    <tr>\n",
       "      <th>489</th>\n",
       "      <td>41</td>\n",
       "      <td>4.00</td>\n",
       "      <td>93.0</td>\n",
       "      <td>87.6</td>\n",
       "      <td>0</td>\n",
       "      <td>0</td>\n",
       "      <td>1</td>\n",
       "      <td>0</td>\n",
       "      <td>1</td>\n",
       "      <td>1</td>\n",
       "      <td>1</td>\n",
       "    </tr>\n",
       "    <tr>\n",
       "      <th>490</th>\n",
       "      <td>24</td>\n",
       "      <td>2.23</td>\n",
       "      <td>65.0</td>\n",
       "      <td>129.5</td>\n",
       "      <td>0</td>\n",
       "      <td>0</td>\n",
       "      <td>0</td>\n",
       "      <td>0</td>\n",
       "      <td>0</td>\n",
       "      <td>0</td>\n",
       "      <td>0</td>\n",
       "    </tr>\n",
       "  </tbody>\n",
       "</table>\n",
       "<p>491 rows × 11 columns</p>\n",
       "</div>"
      ],
      "text/plain": [
       "     AgeBaseline  CholesterolBaseline  CreatinineBaseline  eGFRBaseline  \\\n",
       "0             64                 4.80                59.0          93.3   \n",
       "1             52                 6.40                52.0         105.8   \n",
       "2             56                 6.40                57.0          99.8   \n",
       "3             58                 5.10                65.0          90.3   \n",
       "4             63                 5.00                70.0          79.7   \n",
       "..           ...                  ...                 ...           ...   \n",
       "486           25                 5.30                73.0         122.6   \n",
       "487           45                 5.90                67.0         110.3   \n",
       "488           44                 6.41                66.3         111.6   \n",
       "489           41                 4.00                93.0          87.6   \n",
       "490           24                 2.23                65.0         129.5   \n",
       "\n",
       "     HistoryDiabetes  HistoryCHD  DLDmeds  DMmeds  HTNmeds  ACEIARB  \\\n",
       "0                  0           0        1       0        1        0   \n",
       "1                  0           0        0       0        1        0   \n",
       "2                  0           0        1       0        1        0   \n",
       "3                  0           0        1       0        0        0   \n",
       "4                  1           0        1       1        1        1   \n",
       "..               ...         ...      ...     ...      ...      ...   \n",
       "486                0           0        0       0        0        0   \n",
       "487                0           0        0       0        0        0   \n",
       "488                1           0        1       1        0        0   \n",
       "489                0           0        1       0        1        1   \n",
       "490                0           0        0       0        0        0   \n",
       "\n",
       "     EventCKD35  \n",
       "0             0  \n",
       "1             0  \n",
       "2             0  \n",
       "3             0  \n",
       "4             0  \n",
       "..          ...  \n",
       "486           0  \n",
       "487           0  \n",
       "488           0  \n",
       "489           1  \n",
       "490           0  \n",
       "\n",
       "[491 rows x 11 columns]"
      ]
     },
     "execution_count": 26,
     "metadata": {},
     "output_type": "execute_result"
    }
   ],
   "source": [
    "# Menggabungkan fitur numerik dan kategorikal yang telah dipilih\n",
    "data=pd.concat([num_features,cat_features,target],axis=1)\n",
    "data"
   ]
  },
  {
   "cell_type": "markdown",
   "metadata": {
    "id": "8LG4TZeXtsBW"
   },
   "source": [
    "# Feature selection based on feature importance /Pilih salah satu"
   ]
  },
  {
   "cell_type": "code",
   "execution_count": null,
   "metadata": {
    "id": "vom8Mvsu_LsN"
   },
   "outputs": [],
   "source": [
    "from sklearn.model_selection import StratifiedKFold\n",
    "from sklearn.feature_selection import SelectFromModel\n",
    "from sklearn.ensemble import RandomForestClassifier\n",
    "from sklearn.linear_model import LogisticRegression\n",
    "from sklearn.tree import DecisionTreeClassifier\n",
    "from sklearn.model_selection import cross_val_score\n",
    "from imblearn.over_sampling import SMOTE\n",
    "sm=SMOTE(random_state=42) "
   ]
  },
  {
   "cell_type": "code",
   "execution_count": null,
   "metadata": {
    "colab": {
     "base_uri": "https://localhost:8080/",
     "height": 488
    },
    "id": "ElvvGnIVtvNY",
    "outputId": "7f6e530a-f013-4b91-ae66-287ec7e2b17b"
   },
   "outputs": [],
   "source": [
    "data=pd.concat([num_features,cat_features,target],axis=1)\n",
    "data"
   ]
  },
  {
   "cell_type": "code",
   "execution_count": null,
   "metadata": {
    "id": "ovktRBiPyDkR"
   },
   "outputs": [],
   "source": [
    "X=data.drop(['EventCKD35'],axis=1)\n",
    "y=data['EventCKD35']"
   ]
  },
  {
   "cell_type": "code",
   "execution_count": null,
   "metadata": {
    "id": "qMcj6wNHBxLe"
   },
   "outputs": [],
   "source": [
    "log_regr=LogisticRegression(max_iter=400,solver='liblinear')\n",
    "dt=DecisionTreeClassifier()\n",
    "rf=RandomForestClassifier()"
   ]
  },
  {
   "cell_type": "code",
   "execution_count": null,
   "metadata": {
    "colab": {
     "base_uri": "https://localhost:8080/"
    },
    "id": "HP5Hy4aa_XEF",
    "outputId": "58c34ccf-d6f2-4f3a-c017-3b4339668440"
   },
   "outputs": [],
   "source": [
    "kfold = StratifiedKFold(n_splits=5, shuffle=True, random_state=42)\n",
    "for i in range(1,4):\n",
    "    print('test_size: ',0.1*i)\n",
    "    X_train, X_test, y_train, y_test = train_test_split(X, y, test_size=0.1*i, random_state=42)\n",
    "    X_train,y_train=sm.fit_resample(X_train, y_train)\n",
    "    lr_score = cross_val_score(log_regr, X_train, y_train, cv=kfold, scoring='f1_weighted').mean()\n",
    "    dt_score = cross_val_score(dt, X_train, y_train, cv=kfold, scoring='f1_weighted').mean()\n",
    "    rf_score = cross_val_score(rf, X_train, y_train, cv=kfold, scoring='f1_weighted').mean()\n",
    "    print('lr score', lr_score)\n",
    "    print('dt score', dt_score)\n",
    "    print('rf score', rf_score)"
   ]
  },
  {
   "cell_type": "code",
   "execution_count": null,
   "metadata": {
    "id": "nDLWbdiG6clj"
   },
   "outputs": [],
   "source": [
    "selector=SelectFromModel(estimator=rf).fit(X,y)"
   ]
  },
  {
   "cell_type": "code",
   "execution_count": null,
   "metadata": {
    "colab": {
     "base_uri": "https://localhost:8080/",
     "height": 424
    },
    "id": "G2e1GHbZt5ZY",
    "outputId": "3f0e8aac-d702-4a93-9436-5fc6c294d900"
   },
   "outputs": [],
   "source": [
    "selected_features = X.columns[selector.get_support()]\n",
    "X=X[selected_features]\n",
    "X"
   ]
  },
  {
   "cell_type": "code",
   "execution_count": null,
   "metadata": {
    "colab": {
     "base_uri": "https://localhost:8080/",
     "height": 424
    },
    "id": "9K8iazJ9t9FJ",
    "outputId": "d44feb75-3bc1-42e7-8c04-b0d8c621c046"
   },
   "outputs": [],
   "source": [
    "data=pd.concat([X,y],axis=1)\n",
    "data"
   ]
  },
  {
   "cell_type": "markdown",
   "metadata": {
    "id": "crEmSCBKfDxy"
   },
   "source": [
    "#Scaling Data"
   ]
  },
  {
   "cell_type": "code",
   "execution_count": 27,
   "metadata": {
    "id": "4nXaQdLTfFos"
   },
   "outputs": [],
   "source": [
    "from sklearn.preprocessing import MinMaxScaler\n",
    "scaler=MinMaxScaler()"
   ]
  },
  {
   "cell_type": "code",
   "execution_count": 28,
   "metadata": {
    "id": "Qdo2WQegfKTo"
   },
   "outputs": [],
   "source": [
    "# Inisialisasi MinMaxScaler\n",
    "X=data.drop(['EventCKD35'],axis=1)\n",
    "y=data['EventCKD35']"
   ]
  },
  {
   "cell_type": "code",
   "execution_count": 29,
   "metadata": {
    "id": "0sX3xOpcfVCB"
   },
   "outputs": [],
   "source": [
    "# Scaling data menggunakan MinMaxScaling\n",
    "def MinMaxScaling(data, var):\n",
    "    data_array=np.array(data[var]).reshape(-1,1)\n",
    "    data[var] = scaler.fit_transform(data_array)\n",
    "    return data"
   ]
  },
  {
   "cell_type": "code",
   "execution_count": 30,
   "metadata": {
    "colab": {
     "base_uri": "https://localhost:8080/",
     "height": 424
    },
    "id": "LLHr244VfYHa",
    "outputId": "be737965-db5d-4b0e-c38d-5f4f79fb2fa3"
   },
   "outputs": [
    {
     "data": {
      "text/html": [
       "<div>\n",
       "<style scoped>\n",
       "    .dataframe tbody tr th:only-of-type {\n",
       "        vertical-align: middle;\n",
       "    }\n",
       "\n",
       "    .dataframe tbody tr th {\n",
       "        vertical-align: top;\n",
       "    }\n",
       "\n",
       "    .dataframe thead th {\n",
       "        text-align: right;\n",
       "    }\n",
       "</style>\n",
       "<table border=\"1\" class=\"dataframe\">\n",
       "  <thead>\n",
       "    <tr style=\"text-align: right;\">\n",
       "      <th></th>\n",
       "      <th>AgeBaseline</th>\n",
       "      <th>CholesterolBaseline</th>\n",
       "      <th>CreatinineBaseline</th>\n",
       "      <th>eGFRBaseline</th>\n",
       "      <th>HistoryDiabetes</th>\n",
       "      <th>HistoryCHD</th>\n",
       "      <th>DLDmeds</th>\n",
       "      <th>DMmeds</th>\n",
       "      <th>HTNmeds</th>\n",
       "      <th>ACEIARB</th>\n",
       "    </tr>\n",
       "  </thead>\n",
       "  <tbody>\n",
       "    <tr>\n",
       "      <th>0</th>\n",
       "      <td>0.621212</td>\n",
       "      <td>0.363508</td>\n",
       "      <td>0.452991</td>\n",
       "      <td>0.182366</td>\n",
       "      <td>0.0</td>\n",
       "      <td>0.0</td>\n",
       "      <td>1.0</td>\n",
       "      <td>0.0</td>\n",
       "      <td>1.0</td>\n",
       "      <td>0.0</td>\n",
       "    </tr>\n",
       "    <tr>\n",
       "      <th>1</th>\n",
       "      <td>0.439394</td>\n",
       "      <td>0.589816</td>\n",
       "      <td>0.393162</td>\n",
       "      <td>0.250821</td>\n",
       "      <td>0.0</td>\n",
       "      <td>0.0</td>\n",
       "      <td>0.0</td>\n",
       "      <td>0.0</td>\n",
       "      <td>1.0</td>\n",
       "      <td>0.0</td>\n",
       "    </tr>\n",
       "    <tr>\n",
       "      <th>2</th>\n",
       "      <td>0.500000</td>\n",
       "      <td>0.589816</td>\n",
       "      <td>0.435897</td>\n",
       "      <td>0.217963</td>\n",
       "      <td>0.0</td>\n",
       "      <td>0.0</td>\n",
       "      <td>1.0</td>\n",
       "      <td>0.0</td>\n",
       "      <td>1.0</td>\n",
       "      <td>0.0</td>\n",
       "    </tr>\n",
       "    <tr>\n",
       "      <th>3</th>\n",
       "      <td>0.530303</td>\n",
       "      <td>0.405941</td>\n",
       "      <td>0.504274</td>\n",
       "      <td>0.165936</td>\n",
       "      <td>0.0</td>\n",
       "      <td>0.0</td>\n",
       "      <td>1.0</td>\n",
       "      <td>0.0</td>\n",
       "      <td>0.0</td>\n",
       "      <td>0.0</td>\n",
       "    </tr>\n",
       "    <tr>\n",
       "      <th>4</th>\n",
       "      <td>0.606061</td>\n",
       "      <td>0.391796</td>\n",
       "      <td>0.547009</td>\n",
       "      <td>0.107886</td>\n",
       "      <td>1.0</td>\n",
       "      <td>0.0</td>\n",
       "      <td>1.0</td>\n",
       "      <td>1.0</td>\n",
       "      <td>1.0</td>\n",
       "      <td>1.0</td>\n",
       "    </tr>\n",
       "    <tr>\n",
       "      <th>...</th>\n",
       "      <td>...</td>\n",
       "      <td>...</td>\n",
       "      <td>...</td>\n",
       "      <td>...</td>\n",
       "      <td>...</td>\n",
       "      <td>...</td>\n",
       "      <td>...</td>\n",
       "      <td>...</td>\n",
       "      <td>...</td>\n",
       "      <td>...</td>\n",
       "    </tr>\n",
       "    <tr>\n",
       "      <th>486</th>\n",
       "      <td>0.030303</td>\n",
       "      <td>0.434229</td>\n",
       "      <td>0.572650</td>\n",
       "      <td>0.342826</td>\n",
       "      <td>0.0</td>\n",
       "      <td>0.0</td>\n",
       "      <td>0.0</td>\n",
       "      <td>0.0</td>\n",
       "      <td>0.0</td>\n",
       "      <td>0.0</td>\n",
       "    </tr>\n",
       "    <tr>\n",
       "      <th>487</th>\n",
       "      <td>0.333333</td>\n",
       "      <td>0.519095</td>\n",
       "      <td>0.521368</td>\n",
       "      <td>0.275465</td>\n",
       "      <td>0.0</td>\n",
       "      <td>0.0</td>\n",
       "      <td>0.0</td>\n",
       "      <td>0.0</td>\n",
       "      <td>0.0</td>\n",
       "      <td>0.0</td>\n",
       "    </tr>\n",
       "    <tr>\n",
       "      <th>488</th>\n",
       "      <td>0.318182</td>\n",
       "      <td>0.591231</td>\n",
       "      <td>0.515385</td>\n",
       "      <td>0.282585</td>\n",
       "      <td>1.0</td>\n",
       "      <td>0.0</td>\n",
       "      <td>1.0</td>\n",
       "      <td>1.0</td>\n",
       "      <td>0.0</td>\n",
       "      <td>0.0</td>\n",
       "    </tr>\n",
       "    <tr>\n",
       "      <th>489</th>\n",
       "      <td>0.272727</td>\n",
       "      <td>0.250354</td>\n",
       "      <td>0.743590</td>\n",
       "      <td>0.151150</td>\n",
       "      <td>0.0</td>\n",
       "      <td>0.0</td>\n",
       "      <td>1.0</td>\n",
       "      <td>0.0</td>\n",
       "      <td>1.0</td>\n",
       "      <td>1.0</td>\n",
       "    </tr>\n",
       "    <tr>\n",
       "      <th>490</th>\n",
       "      <td>0.015152</td>\n",
       "      <td>0.000000</td>\n",
       "      <td>0.504274</td>\n",
       "      <td>0.380613</td>\n",
       "      <td>0.0</td>\n",
       "      <td>0.0</td>\n",
       "      <td>0.0</td>\n",
       "      <td>0.0</td>\n",
       "      <td>0.0</td>\n",
       "      <td>0.0</td>\n",
       "    </tr>\n",
       "  </tbody>\n",
       "</table>\n",
       "<p>491 rows × 10 columns</p>\n",
       "</div>"
      ],
      "text/plain": [
       "     AgeBaseline  CholesterolBaseline  CreatinineBaseline  eGFRBaseline  \\\n",
       "0       0.621212             0.363508            0.452991      0.182366   \n",
       "1       0.439394             0.589816            0.393162      0.250821   \n",
       "2       0.500000             0.589816            0.435897      0.217963   \n",
       "3       0.530303             0.405941            0.504274      0.165936   \n",
       "4       0.606061             0.391796            0.547009      0.107886   \n",
       "..           ...                  ...                 ...           ...   \n",
       "486     0.030303             0.434229            0.572650      0.342826   \n",
       "487     0.333333             0.519095            0.521368      0.275465   \n",
       "488     0.318182             0.591231            0.515385      0.282585   \n",
       "489     0.272727             0.250354            0.743590      0.151150   \n",
       "490     0.015152             0.000000            0.504274      0.380613   \n",
       "\n",
       "     HistoryDiabetes  HistoryCHD  DLDmeds  DMmeds  HTNmeds  ACEIARB  \n",
       "0                0.0         0.0      1.0     0.0      1.0      0.0  \n",
       "1                0.0         0.0      0.0     0.0      1.0      0.0  \n",
       "2                0.0         0.0      1.0     0.0      1.0      0.0  \n",
       "3                0.0         0.0      1.0     0.0      0.0      0.0  \n",
       "4                1.0         0.0      1.0     1.0      1.0      1.0  \n",
       "..               ...         ...      ...     ...      ...      ...  \n",
       "486              0.0         0.0      0.0     0.0      0.0      0.0  \n",
       "487              0.0         0.0      0.0     0.0      0.0      0.0  \n",
       "488              1.0         0.0      1.0     1.0      0.0      0.0  \n",
       "489              0.0         0.0      1.0     0.0      1.0      1.0  \n",
       "490              0.0         0.0      0.0     0.0      0.0      0.0  \n",
       "\n",
       "[491 rows x 10 columns]"
      ]
     },
     "execution_count": 30,
     "metadata": {},
     "output_type": "execute_result"
    }
   ],
   "source": [
    "# Scaling setiap kolom dalam dataset\n",
    "for column in X.columns:\n",
    "    X=MinMaxScaling(X,column)\n",
    "X"
   ]
  },
  {
   "cell_type": "code",
   "execution_count": 31,
   "metadata": {
    "colab": {
     "base_uri": "https://localhost:8080/",
     "height": 424
    },
    "id": "0CpYqiJBfqKj",
    "outputId": "de0588f2-bac9-47e2-a97b-70d2ae41aff2"
   },
   "outputs": [
    {
     "data": {
      "text/html": [
       "<div>\n",
       "<style scoped>\n",
       "    .dataframe tbody tr th:only-of-type {\n",
       "        vertical-align: middle;\n",
       "    }\n",
       "\n",
       "    .dataframe tbody tr th {\n",
       "        vertical-align: top;\n",
       "    }\n",
       "\n",
       "    .dataframe thead th {\n",
       "        text-align: right;\n",
       "    }\n",
       "</style>\n",
       "<table border=\"1\" class=\"dataframe\">\n",
       "  <thead>\n",
       "    <tr style=\"text-align: right;\">\n",
       "      <th></th>\n",
       "      <th>AgeBaseline</th>\n",
       "      <th>CholesterolBaseline</th>\n",
       "      <th>CreatinineBaseline</th>\n",
       "      <th>eGFRBaseline</th>\n",
       "      <th>HistoryDiabetes</th>\n",
       "      <th>HistoryCHD</th>\n",
       "      <th>DLDmeds</th>\n",
       "      <th>DMmeds</th>\n",
       "      <th>HTNmeds</th>\n",
       "      <th>ACEIARB</th>\n",
       "      <th>EventCKD35</th>\n",
       "    </tr>\n",
       "  </thead>\n",
       "  <tbody>\n",
       "    <tr>\n",
       "      <th>0</th>\n",
       "      <td>0.621212</td>\n",
       "      <td>0.363508</td>\n",
       "      <td>0.452991</td>\n",
       "      <td>0.182366</td>\n",
       "      <td>0.0</td>\n",
       "      <td>0.0</td>\n",
       "      <td>1.0</td>\n",
       "      <td>0.0</td>\n",
       "      <td>1.0</td>\n",
       "      <td>0.0</td>\n",
       "      <td>0</td>\n",
       "    </tr>\n",
       "    <tr>\n",
       "      <th>1</th>\n",
       "      <td>0.439394</td>\n",
       "      <td>0.589816</td>\n",
       "      <td>0.393162</td>\n",
       "      <td>0.250821</td>\n",
       "      <td>0.0</td>\n",
       "      <td>0.0</td>\n",
       "      <td>0.0</td>\n",
       "      <td>0.0</td>\n",
       "      <td>1.0</td>\n",
       "      <td>0.0</td>\n",
       "      <td>0</td>\n",
       "    </tr>\n",
       "    <tr>\n",
       "      <th>2</th>\n",
       "      <td>0.500000</td>\n",
       "      <td>0.589816</td>\n",
       "      <td>0.435897</td>\n",
       "      <td>0.217963</td>\n",
       "      <td>0.0</td>\n",
       "      <td>0.0</td>\n",
       "      <td>1.0</td>\n",
       "      <td>0.0</td>\n",
       "      <td>1.0</td>\n",
       "      <td>0.0</td>\n",
       "      <td>0</td>\n",
       "    </tr>\n",
       "    <tr>\n",
       "      <th>3</th>\n",
       "      <td>0.530303</td>\n",
       "      <td>0.405941</td>\n",
       "      <td>0.504274</td>\n",
       "      <td>0.165936</td>\n",
       "      <td>0.0</td>\n",
       "      <td>0.0</td>\n",
       "      <td>1.0</td>\n",
       "      <td>0.0</td>\n",
       "      <td>0.0</td>\n",
       "      <td>0.0</td>\n",
       "      <td>0</td>\n",
       "    </tr>\n",
       "    <tr>\n",
       "      <th>4</th>\n",
       "      <td>0.606061</td>\n",
       "      <td>0.391796</td>\n",
       "      <td>0.547009</td>\n",
       "      <td>0.107886</td>\n",
       "      <td>1.0</td>\n",
       "      <td>0.0</td>\n",
       "      <td>1.0</td>\n",
       "      <td>1.0</td>\n",
       "      <td>1.0</td>\n",
       "      <td>1.0</td>\n",
       "      <td>0</td>\n",
       "    </tr>\n",
       "    <tr>\n",
       "      <th>...</th>\n",
       "      <td>...</td>\n",
       "      <td>...</td>\n",
       "      <td>...</td>\n",
       "      <td>...</td>\n",
       "      <td>...</td>\n",
       "      <td>...</td>\n",
       "      <td>...</td>\n",
       "      <td>...</td>\n",
       "      <td>...</td>\n",
       "      <td>...</td>\n",
       "      <td>...</td>\n",
       "    </tr>\n",
       "    <tr>\n",
       "      <th>486</th>\n",
       "      <td>0.030303</td>\n",
       "      <td>0.434229</td>\n",
       "      <td>0.572650</td>\n",
       "      <td>0.342826</td>\n",
       "      <td>0.0</td>\n",
       "      <td>0.0</td>\n",
       "      <td>0.0</td>\n",
       "      <td>0.0</td>\n",
       "      <td>0.0</td>\n",
       "      <td>0.0</td>\n",
       "      <td>0</td>\n",
       "    </tr>\n",
       "    <tr>\n",
       "      <th>487</th>\n",
       "      <td>0.333333</td>\n",
       "      <td>0.519095</td>\n",
       "      <td>0.521368</td>\n",
       "      <td>0.275465</td>\n",
       "      <td>0.0</td>\n",
       "      <td>0.0</td>\n",
       "      <td>0.0</td>\n",
       "      <td>0.0</td>\n",
       "      <td>0.0</td>\n",
       "      <td>0.0</td>\n",
       "      <td>0</td>\n",
       "    </tr>\n",
       "    <tr>\n",
       "      <th>488</th>\n",
       "      <td>0.318182</td>\n",
       "      <td>0.591231</td>\n",
       "      <td>0.515385</td>\n",
       "      <td>0.282585</td>\n",
       "      <td>1.0</td>\n",
       "      <td>0.0</td>\n",
       "      <td>1.0</td>\n",
       "      <td>1.0</td>\n",
       "      <td>0.0</td>\n",
       "      <td>0.0</td>\n",
       "      <td>0</td>\n",
       "    </tr>\n",
       "    <tr>\n",
       "      <th>489</th>\n",
       "      <td>0.272727</td>\n",
       "      <td>0.250354</td>\n",
       "      <td>0.743590</td>\n",
       "      <td>0.151150</td>\n",
       "      <td>0.0</td>\n",
       "      <td>0.0</td>\n",
       "      <td>1.0</td>\n",
       "      <td>0.0</td>\n",
       "      <td>1.0</td>\n",
       "      <td>1.0</td>\n",
       "      <td>1</td>\n",
       "    </tr>\n",
       "    <tr>\n",
       "      <th>490</th>\n",
       "      <td>0.015152</td>\n",
       "      <td>0.000000</td>\n",
       "      <td>0.504274</td>\n",
       "      <td>0.380613</td>\n",
       "      <td>0.0</td>\n",
       "      <td>0.0</td>\n",
       "      <td>0.0</td>\n",
       "      <td>0.0</td>\n",
       "      <td>0.0</td>\n",
       "      <td>0.0</td>\n",
       "      <td>0</td>\n",
       "    </tr>\n",
       "  </tbody>\n",
       "</table>\n",
       "<p>491 rows × 11 columns</p>\n",
       "</div>"
      ],
      "text/plain": [
       "     AgeBaseline  CholesterolBaseline  CreatinineBaseline  eGFRBaseline  \\\n",
       "0       0.621212             0.363508            0.452991      0.182366   \n",
       "1       0.439394             0.589816            0.393162      0.250821   \n",
       "2       0.500000             0.589816            0.435897      0.217963   \n",
       "3       0.530303             0.405941            0.504274      0.165936   \n",
       "4       0.606061             0.391796            0.547009      0.107886   \n",
       "..           ...                  ...                 ...           ...   \n",
       "486     0.030303             0.434229            0.572650      0.342826   \n",
       "487     0.333333             0.519095            0.521368      0.275465   \n",
       "488     0.318182             0.591231            0.515385      0.282585   \n",
       "489     0.272727             0.250354            0.743590      0.151150   \n",
       "490     0.015152             0.000000            0.504274      0.380613   \n",
       "\n",
       "     HistoryDiabetes  HistoryCHD  DLDmeds  DMmeds  HTNmeds  ACEIARB  \\\n",
       "0                0.0         0.0      1.0     0.0      1.0      0.0   \n",
       "1                0.0         0.0      0.0     0.0      1.0      0.0   \n",
       "2                0.0         0.0      1.0     0.0      1.0      0.0   \n",
       "3                0.0         0.0      1.0     0.0      0.0      0.0   \n",
       "4                1.0         0.0      1.0     1.0      1.0      1.0   \n",
       "..               ...         ...      ...     ...      ...      ...   \n",
       "486              0.0         0.0      0.0     0.0      0.0      0.0   \n",
       "487              0.0         0.0      0.0     0.0      0.0      0.0   \n",
       "488              1.0         0.0      1.0     1.0      0.0      0.0   \n",
       "489              0.0         0.0      1.0     0.0      1.0      1.0   \n",
       "490              0.0         0.0      0.0     0.0      0.0      0.0   \n",
       "\n",
       "     EventCKD35  \n",
       "0             0  \n",
       "1             0  \n",
       "2             0  \n",
       "3             0  \n",
       "4             0  \n",
       "..          ...  \n",
       "486           0  \n",
       "487           0  \n",
       "488           0  \n",
       "489           1  \n",
       "490           0  \n",
       "\n",
       "[491 rows x 11 columns]"
      ]
     },
     "execution_count": 31,
     "metadata": {},
     "output_type": "execute_result"
    }
   ],
   "source": [
    "# Menggabungkan fitur yang telah discaling dengan target\n",
    "data=pd.concat([X,y],axis=1)\n",
    "data"
   ]
  },
  {
   "cell_type": "markdown",
   "metadata": {
    "id": "3Id8XhYlb39P"
   },
   "source": [
    "# Membangun model Neural Network"
   ]
  },
  {
   "cell_type": "code",
   "execution_count": 32,
   "metadata": {
    "id": "j5LKxL41b1Y9"
   },
   "outputs": [],
   "source": [
    "from tensorflow import keras"
   ]
  },
  {
   "cell_type": "code",
   "execution_count": 33,
   "metadata": {
    "id": "XuO74asVcAlx"
   },
   "outputs": [],
   "source": [
    "# Fungsi untuk membangun model MLP\n",
    "def MLP_model(n_neurons_dense=(16,8),activation_dense='relu',n_layers_dense=2,activation_output='sigmoid',lr=1e-3):\n",
    "    model=keras.models.Sequential()\n",
    "    for i in range(n_layers_dense):\n",
    "        if i==0:\n",
    "            model.add(keras.layers.Dense(n_neurons_dense[i],activation=activation_dense,input_shape=(X.shape[1],)))\n",
    "        else:\n",
    "            model.add(keras.layers.Dense(n_neurons_dense[i],activation=activation_dense))\n",
    "    model.add(keras.layers.Dense(1,activation=activation_output))\n",
    "    opt = keras.optimizers.Adam(learning_rate=lr,weight_decay=1e-2)\n",
    "    model.compile(optimizer=opt,loss='binary_crossentropy',metrics=['accuracy'])\n",
    "    return model"
   ]
  },
  {
   "cell_type": "code",
   "execution_count": 34,
   "metadata": {
    "colab": {
     "base_uri": "https://localhost:8080/"
    },
    "id": "W_t9Tiwccw5_",
    "outputId": "b71e28a8-a0cc-4747-d1f8-a1a7264b672d"
   },
   "outputs": [
    {
     "name": "stdout",
     "output_type": "stream",
     "text": [
      "Model: \"sequential\"\n",
      "_________________________________________________________________\n",
      " Layer (type)                Output Shape              Param #   \n",
      "=================================================================\n",
      " dense (Dense)               (None, 16)                176       \n",
      "                                                                 \n",
      " dense_1 (Dense)             (None, 8)                 136       \n",
      "                                                                 \n",
      " dense_2 (Dense)             (None, 1)                 9         \n",
      "                                                                 \n",
      "=================================================================\n",
      "Total params: 321\n",
      "Trainable params: 321\n",
      "Non-trainable params: 0\n",
      "_________________________________________________________________\n"
     ]
    }
   ],
   "source": [
    "# Membangun model MLP\n",
    "model=MLP_model()\n",
    "model.summary()"
   ]
  },
  {
   "cell_type": "markdown",
   "metadata": {
    "id": "dc8MyeAHefth"
   },
   "source": [
    "# Cross Validation"
   ]
  },
  {
   "cell_type": "code",
   "execution_count": 35,
   "metadata": {
    "id": "E5dySM37eTbr"
   },
   "outputs": [],
   "source": [
    "from sklearn.model_selection import train_test_split\n",
    "from sklearn.metrics import f1_score\n",
    "from imblearn.over_sampling import SMOTE\n",
    "# Inisialisasi SMOTE\n",
    "sm=SMOTE(random_state=42) "
   ]
  },
  {
   "cell_type": "code",
   "execution_count": 36,
   "metadata": {
    "id": "L5JGD3-2gdU6"
   },
   "outputs": [],
   "source": [
    "# Fungsi untuk melakukan cross validation\n",
    "def cross_validation(X,y,n_split=3,n_iter=5):\n",
    "    score_list=[]\n",
    "    score_mean_list=[]\n",
    "    print('=== CROSS VALIDATE START ===')\n",
    "    for i in range(n_split):\n",
    "        X_train,X_test,y_train,y_test=train_test_split(X,y,test_size=0.1*(i+1),random_state=42)\n",
    "        X_val,X_test,y_val,y_test=train_test_split(X_test,y_test,test_size=0.5,random_state=42)\n",
    "        X_train,y_train=sm.fit_resample(X_train, y_train)\n",
    "        score_each_split=[]\n",
    "        for j in range(n_iter):\n",
    "            model=None\n",
    "            model=MLP_model()\n",
    "            model.fit(X_train,y_train,validation_data=(X_val,y_val),epochs=100,verbose=0,batch_size=32)\n",
    "            y_pred=model.predict(X_test)\n",
    "            y_pred=np.round(y_pred)\n",
    "            score=f1_score(y_test,y_pred,average='weighted')\n",
    "            score_each_split.append(score)\n",
    "            print('SPLIT {0} ITER {1} DONE!\\n'.format(i+1, j+1))\n",
    "        score_list.append(score_each_split)\n",
    "        score_mean_list.append(np.mean(score_each_split))\n",
    "    score_list=np.array(score_list)\n",
    "    print('score: {}\\n'.format(score_list))\n",
    "    return score_list, score_mean_list"
   ]
  },
  {
   "cell_type": "code",
   "execution_count": 37,
   "metadata": {
    "id": "CJOPxjijhEaQ"
   },
   "outputs": [],
   "source": [
    "X=data.drop(['EventCKD35'],axis=1)\n",
    "y=data['EventCKD35']"
   ]
  },
  {
   "cell_type": "code",
   "execution_count": 38,
   "metadata": {
    "colab": {
     "base_uri": "https://localhost:8080/"
    },
    "id": "4mzji2NMhJkk",
    "outputId": "2b784530-98a4-48d8-de40-13b9f46867cf"
   },
   "outputs": [
    {
     "name": "stdout",
     "output_type": "stream",
     "text": [
      "=== CROSS VALIDATE START ===\n",
      "1/1 [==============================] - 0s 67ms/step\n",
      "SPLIT 1 ITER 1 DONE!\n",
      "\n",
      "1/1 [==============================] - 0s 44ms/step\n",
      "SPLIT 1 ITER 2 DONE!\n",
      "\n",
      "1/1 [==============================] - 0s 43ms/step\n",
      "SPLIT 1 ITER 3 DONE!\n",
      "\n",
      "1/1 [==============================] - 0s 43ms/step\n",
      "SPLIT 1 ITER 4 DONE!\n",
      "\n",
      "WARNING:tensorflow:5 out of the last 5 calls to <function Model.make_predict_function.<locals>.predict_function at 0x000001DC4510B5E0> triggered tf.function retracing. Tracing is expensive and the excessive number of tracings could be due to (1) creating @tf.function repeatedly in a loop, (2) passing tensors with different shapes, (3) passing Python objects instead of tensors. For (1), please define your @tf.function outside of the loop. For (2), @tf.function has reduce_retracing=True option that can avoid unnecessary retracing. For (3), please refer to https://www.tensorflow.org/guide/function#controlling_retracing and https://www.tensorflow.org/api_docs/python/tf/function for  more details.\n",
      "1/1 [==============================] - 0s 46ms/step\n",
      "SPLIT 1 ITER 5 DONE!\n",
      "\n",
      "WARNING:tensorflow:6 out of the last 6 calls to <function Model.make_predict_function.<locals>.predict_function at 0x000001DC455A9550> triggered tf.function retracing. Tracing is expensive and the excessive number of tracings could be due to (1) creating @tf.function repeatedly in a loop, (2) passing tensors with different shapes, (3) passing Python objects instead of tensors. For (1), please define your @tf.function outside of the loop. For (2), @tf.function has reduce_retracing=True option that can avoid unnecessary retracing. For (3), please refer to https://www.tensorflow.org/guide/function#controlling_retracing and https://www.tensorflow.org/api_docs/python/tf/function for  more details.\n",
      "2/2 [==============================] - 0s 2ms/step\n",
      "SPLIT 2 ITER 1 DONE!\n",
      "\n",
      "2/2 [==============================] - 0s 3ms/step\n",
      "SPLIT 2 ITER 2 DONE!\n",
      "\n",
      "2/2 [==============================] - 0s 3ms/step\n",
      "SPLIT 2 ITER 3 DONE!\n",
      "\n",
      "2/2 [==============================] - 0s 998us/step\n",
      "SPLIT 2 ITER 4 DONE!\n",
      "\n",
      "2/2 [==============================] - 0s 2ms/step\n",
      "SPLIT 2 ITER 5 DONE!\n",
      "\n",
      "3/3 [==============================] - 0s 999us/step\n",
      "SPLIT 3 ITER 1 DONE!\n",
      "\n",
      "3/3 [==============================] - 0s 2ms/step\n",
      "SPLIT 3 ITER 2 DONE!\n",
      "\n",
      "3/3 [==============================] - 0s 1ms/step\n",
      "SPLIT 3 ITER 3 DONE!\n",
      "\n",
      "3/3 [==============================] - 0s 1ms/step\n",
      "SPLIT 3 ITER 4 DONE!\n",
      "\n",
      "3/3 [==============================] - 0s 2ms/step\n",
      "SPLIT 3 ITER 5 DONE!\n",
      "\n",
      "score: [[0.84336043 0.78070461 0.75298246 0.752      0.7839627 ]\n",
      " [0.86775068 0.85263158 0.86775068 0.88291991 0.89821429]\n",
      " [0.80322194 0.7930371  0.7930371  0.7930371  0.80322194]]\n",
      "\n"
     ]
    }
   ],
   "source": [
    "score,score_mean=cross_validation(X,y)"
   ]
  },
  {
   "cell_type": "code",
   "execution_count": 39,
   "metadata": {
    "colab": {
     "base_uri": "https://localhost:8080/"
    },
    "id": "qxPY4oyeregY",
    "outputId": "92949c70-11ad-411e-91b5-bd217f717d03"
   },
   "outputs": [
    {
     "data": {
      "text/plain": [
       "[0.7826020401506922, 0.8738534269258276, 0.7971110394020972]"
      ]
     },
     "execution_count": 39,
     "metadata": {},
     "output_type": "execute_result"
    }
   ],
   "source": [
    "score_mean"
   ]
  },
  {
   "cell_type": "markdown",
   "metadata": {
    "id": "agKq1fQQsndN"
   },
   "source": [
    "train size 0.8 memberikan score terbaik"
   ]
  },
  {
   "cell_type": "markdown",
   "metadata": {
    "id": "BO8pZX5Vl1pM"
   },
   "source": [
    "# Hyperparameter Tuning"
   ]
  },
  {
   "cell_type": "code",
   "execution_count": null,
   "metadata": {
    "colab": {
     "base_uri": "https://localhost:8080/"
    },
    "id": "pdP7BA0bmaBn",
    "outputId": "0b63d946-e66a-4898-9acf-db451463cb86"
   },
   "outputs": [],
   "source": [
    "!pip install keras_tuner"
   ]
  },
  {
   "cell_type": "code",
   "execution_count": 40,
   "metadata": {
    "id": "IQzS5GFxmIpZ"
   },
   "outputs": [],
   "source": [
    "import keras_tuner as kt"
   ]
  },
  {
   "cell_type": "code",
   "execution_count": 57,
   "metadata": {
    "id": "1ZV98ZXEl8-0"
   },
   "outputs": [],
   "source": [
    "# Fungsi untuk membangun model MLP dengan hyperparameter tuning\n",
    "def MLP_model_hp(hp):\n",
    "    model = keras.models.Sequential()\n",
    "    n_layers_dense=hp.Int('n_layer_dense',1,3,step=1)\n",
    "    for i in range(n_layers_dense):\n",
    "        n_neurons_dense = hp.Int(f\"n_neurons_dense_{i}\", min_value=8, max_value=128, step=8)\n",
    "        dense_act = hp.Choice(f\"act_dense_{i}\", ['linear','relu','sigmoid'])\n",
    "        dropout_rate=hp.Float(f'dropout_rate_{i}', 2e-1, 5e-1, sampling='log')\n",
    "        if hp.Boolean(f'hidden_kernel_regularizer_{i}'):\n",
    "            hidden_regularizer=keras.regularizers.L2(hp.Float(f'hidden_regularizer_{i}',1e-3,1e-1,sampling='log'))\n",
    "        else:\n",
    "            hidden_regularizer=None\n",
    "        if i == 0:\n",
    "            model.add(keras.layers.Dense(n_neurons_dense,activation=dense_act,input_shape=(X.shape[1],),kernel_regularizer=hidden_regularizer))\n",
    "            if hp.Boolean(f'dropout_{i}'):\n",
    "                model.add(keras.layers.Dropout(rate=dropout_rate))\n",
    "        else:\n",
    "            model.add(keras.layers.Dense(n_neurons_dense,activation=dense_act,kernel_regularizer=hidden_regularizer))\n",
    "            if hp.Boolean(f'dropout_{i}'):\n",
    "                model.add(keras.layers.Dropout(rate=dropout_rate))\n",
    "    if hp.Boolean('output_kernel_regularizer'):\n",
    "        output_regularizer=keras.regularizers.L2(hp.Float('output_regularizer',1e-3,1e-1,sampling='log'))\n",
    "    else:\n",
    "        output_regularizer=None\n",
    "    model.add(keras.layers.Dense(1,activation='sigmoid',kernel_regularizer=output_regularizer))\n",
    "    opt = keras.optimizers.Adam(\n",
    "      learning_rate=hp.Float('lr', 1e-3, 1e-1, sampling='log')\n",
    "      )\n",
    "    model.compile(optimizer=opt,loss='binary_crossentropy',metrics=['accuracy'])\n",
    "    return model"
   ]
  },
  {
   "cell_type": "code",
   "execution_count": 58,
   "metadata": {
    "id": "vyTbGRx2mDka"
   },
   "outputs": [],
   "source": [
    "# Inisialisasi BayesianOptimization\n",
    "tuner = kt.BayesianOptimization(\n",
    "    hypermodel=MLP_model_hp,\n",
    "    objective=kt.Objective('val_loss','min'),\n",
    "    max_trials=100,\n",
    "    executions_per_trial=1,\n",
    "    overwrite=True,\n",
    "    directory=\"/Data/Hasil\",\n",
    "    project_name=\"CKD\",\n",
    ")"
   ]
  },
  {
   "cell_type": "code",
   "execution_count": 59,
   "metadata": {
    "colab": {
     "base_uri": "https://localhost:8080/"
    },
    "id": "q_8GNpCDmimT",
    "outputId": "0b0a2d86-a96c-464f-b4de-279b85e77e5d"
   },
   "outputs": [
    {
     "name": "stdout",
     "output_type": "stream",
     "text": [
      "Search space summary\n",
      "Default search space size: 8\n",
      "n_layer_dense (Int)\n",
      "{'default': None, 'conditions': [], 'min_value': 1, 'max_value': 3, 'step': 1, 'sampling': None}\n",
      "n_neurons_dense_0 (Int)\n",
      "{'default': None, 'conditions': [], 'min_value': 8, 'max_value': 128, 'step': 8, 'sampling': None}\n",
      "act_dense_0 (Choice)\n",
      "{'default': 'linear', 'conditions': [], 'values': ['linear', 'relu', 'sigmoid'], 'ordered': False}\n",
      "dropout_rate_0 (Float)\n",
      "{'default': 0.2, 'conditions': [], 'min_value': 0.2, 'max_value': 0.5, 'step': None, 'sampling': 'log'}\n",
      "hidden_kernel_regularizer_0 (Boolean)\n",
      "{'default': False, 'conditions': []}\n",
      "dropout_0 (Boolean)\n",
      "{'default': False, 'conditions': []}\n",
      "output_kernel_regularizer (Boolean)\n",
      "{'default': False, 'conditions': []}\n",
      "lr (Float)\n",
      "{'default': 0.001, 'conditions': [], 'min_value': 0.001, 'max_value': 0.1, 'step': None, 'sampling': 'log'}\n"
     ]
    }
   ],
   "source": [
    "# Menampilkan ringkasan ruang pencarian\n",
    "tuner.search_space_summary()"
   ]
  },
  {
   "cell_type": "code",
   "execution_count": 60,
   "metadata": {
    "id": "im5-zusCmlLO"
   },
   "outputs": [],
   "source": [
    "X=data.drop(['EventCKD35'],axis=1)\n",
    "y=data['EventCKD35']"
   ]
  },
  {
   "cell_type": "code",
   "execution_count": 61,
   "metadata": {
    "id": "aGvKb7DtmuPQ"
   },
   "outputs": [],
   "source": [
    "X_train,X_test,y_train,y_test=train_test_split(X,y,test_size=0.2,random_state=42)\n",
    "X_val,X_test,y_val,y_test=train_test_split(X_test,y_test,test_size=0.5,random_state=42)\n",
    "X_train,y_train=sm.fit_resample(X_train, y_train)"
   ]
  },
  {
   "cell_type": "code",
   "execution_count": 62,
   "metadata": {
    "id": "sZNqru8gm1MJ"
   },
   "outputs": [],
   "source": [
    "early_stop = keras.callbacks.EarlyStopping(monitor='val_loss', patience=5)"
   ]
  },
  {
   "cell_type": "code",
   "execution_count": 63,
   "metadata": {
    "colab": {
     "base_uri": "https://localhost:8080/"
    },
    "id": "0pNDqNudm3XW",
    "outputId": "9f0f25ef-072f-47ef-c009-fd90b68f28ce"
   },
   "outputs": [
    {
     "name": "stdout",
     "output_type": "stream",
     "text": [
      "Trial 100 Complete [00h 00m 01s]\n",
      "val_loss: 0.426767498254776\n",
      "\n",
      "Best val_loss So Far: 0.34189721941947937\n",
      "Total elapsed time: 00h 18m 29s\n",
      "INFO:tensorflow:Oracle triggered exit\n"
     ]
    }
   ],
   "source": [
    "# Mencari hyperparameter terbaik menggunakan BayesianOptimization\n",
    "tuner.search(X_train, y_train,\n",
    "             batch_size=32, epochs=100,\n",
    "             validation_data=(X_val, y_val),\n",
    "             callbacks=[early_stop])\n",
    "# Memilih model terbaik\n",
    "model=tuner.get_best_models()[0]"
   ]
  },
  {
   "cell_type": "code",
   "execution_count": 64,
   "metadata": {
    "colab": {
     "base_uri": "https://localhost:8080/"
    },
    "id": "GvpqdAGJVzmj",
    "outputId": "b58c7ae1-9c69-4eb3-c9a4-cfbf52976dc7"
   },
   "outputs": [
    {
     "name": "stdout",
     "output_type": "stream",
     "text": [
      "Results summary\n",
      "Results in /Data/Hasil\\CKD\n",
      "Showing 1 best trials\n",
      "<keras_tuner.engine.objective.Objective object at 0x000001DC45217130>\n",
      "Trial summary\n",
      "Hyperparameters:\n",
      "n_layer_dense: 1\n",
      "n_neurons_dense_0: 48\n",
      "act_dense_0: linear\n",
      "dropout_rate_0: 0.2\n",
      "hidden_kernel_regularizer_0: False\n",
      "dropout_0: False\n",
      "output_kernel_regularizer: False\n",
      "lr: 0.1\n",
      "hidden_regularizer_0: 0.1\n",
      "n_neurons_dense_1: 8\n",
      "act_dense_1: relu\n",
      "dropout_rate_1: 0.2\n",
      "hidden_kernel_regularizer_1: True\n",
      "dropout_1: True\n",
      "output_regularizer: 0.001\n",
      "hidden_regularizer_1: 0.1\n",
      "n_neurons_dense_2: 8\n",
      "act_dense_2: linear\n",
      "dropout_rate_2: 0.5\n",
      "hidden_kernel_regularizer_2: False\n",
      "dropout_2: True\n",
      "hidden_regularizer_2: 0.1\n",
      "Score: 0.34189721941947937\n"
     ]
    }
   ],
   "source": [
    "# Menampilkan ringkasan hasil pencarian\n",
    "tuner.results_summary(1)"
   ]
  },
  {
   "cell_type": "code",
   "execution_count": 65,
   "metadata": {
    "colab": {
     "base_uri": "https://localhost:8080/"
    },
    "id": "qPB9knPcm7P_",
    "outputId": "398d3aa9-2cdd-4b4e-dbb3-58dae780ee91"
   },
   "outputs": [
    {
     "name": "stdout",
     "output_type": "stream",
     "text": [
      "Model: \"sequential\"\n",
      "_________________________________________________________________\n",
      " Layer (type)                Output Shape              Param #   \n",
      "=================================================================\n",
      " dense (Dense)               (None, 48)                528       \n",
      "                                                                 \n",
      " dense_1 (Dense)             (None, 1)                 49        \n",
      "                                                                 \n",
      "=================================================================\n",
      "Total params: 577\n",
      "Trainable params: 577\n",
      "Non-trainable params: 0\n",
      "_________________________________________________________________\n"
     ]
    }
   ],
   "source": [
    "# Menampilkan ringkasan model terbaik\n",
    "model.summary()"
   ]
  },
  {
   "cell_type": "markdown",
   "metadata": {
    "id": "mWWLiV8Vn-Dm"
   },
   "source": [
    "#Train Best Model"
   ]
  },
  {
   "cell_type": "code",
   "execution_count": 66,
   "metadata": {
    "id": "EZbRP-OonbY8"
   },
   "outputs": [],
   "source": [
    "early_stop = tf.keras.callbacks.EarlyStopping(patience=10, monitor='val_loss',\n",
    "                                              restore_best_weights=True,\n",
    "                                              verbose=1)"
   ]
  },
  {
   "cell_type": "code",
   "execution_count": 67,
   "metadata": {
    "colab": {
     "base_uri": "https://localhost:8080/"
    },
    "id": "mE6G5QrTnWpW",
    "outputId": "f31f12f2-e942-4732-e913-8a15d3546af4"
   },
   "outputs": [
    {
     "name": "stdout",
     "output_type": "stream",
     "text": [
      "Epoch 1/500\n",
      "22/22 [==============================] - 1s 8ms/step - loss: 0.4521 - accuracy: 0.8089 - val_loss: 0.3992 - val_accuracy: 0.8163\n",
      "Epoch 2/500\n",
      "22/22 [==============================] - 0s 2ms/step - loss: 0.4201 - accuracy: 0.8190 - val_loss: 0.5019 - val_accuracy: 0.7959\n",
      "Epoch 3/500\n",
      "22/22 [==============================] - 0s 2ms/step - loss: 0.3754 - accuracy: 0.8578 - val_loss: 0.4526 - val_accuracy: 0.7959\n",
      "Epoch 4/500\n",
      "22/22 [==============================] - 0s 2ms/step - loss: 0.4011 - accuracy: 0.8491 - val_loss: 0.5842 - val_accuracy: 0.6939\n",
      "Epoch 5/500\n",
      "22/22 [==============================] - 0s 2ms/step - loss: 0.3667 - accuracy: 0.8520 - val_loss: 0.6660 - val_accuracy: 0.6939\n",
      "Epoch 6/500\n",
      "22/22 [==============================] - 0s 2ms/step - loss: 0.3858 - accuracy: 0.8362 - val_loss: 0.4928 - val_accuracy: 0.7551\n",
      "Epoch 7/500\n",
      "22/22 [==============================] - 0s 2ms/step - loss: 0.3662 - accuracy: 0.8534 - val_loss: 0.5009 - val_accuracy: 0.7143\n",
      "Epoch 8/500\n",
      "22/22 [==============================] - 0s 2ms/step - loss: 0.3750 - accuracy: 0.8477 - val_loss: 0.4608 - val_accuracy: 0.7551\n",
      "Epoch 9/500\n",
      "22/22 [==============================] - 0s 2ms/step - loss: 0.4358 - accuracy: 0.8204 - val_loss: 0.8058 - val_accuracy: 0.7143\n",
      "Epoch 10/500\n",
      "22/22 [==============================] - 0s 2ms/step - loss: 0.4703 - accuracy: 0.8147 - val_loss: 0.3984 - val_accuracy: 0.8776\n",
      "Epoch 11/500\n",
      "22/22 [==============================] - 0s 2ms/step - loss: 0.4324 - accuracy: 0.8319 - val_loss: 0.7044 - val_accuracy: 0.7143\n",
      "Epoch 12/500\n",
      "22/22 [==============================] - 0s 2ms/step - loss: 0.4070 - accuracy: 0.8391 - val_loss: 0.4079 - val_accuracy: 0.8163\n",
      "Epoch 13/500\n",
      "22/22 [==============================] - 0s 2ms/step - loss: 0.4299 - accuracy: 0.8204 - val_loss: 0.5255 - val_accuracy: 0.6939\n",
      "Epoch 14/500\n",
      "22/22 [==============================] - 0s 2ms/step - loss: 0.3568 - accuracy: 0.8520 - val_loss: 0.4987 - val_accuracy: 0.7959\n",
      "Epoch 15/500\n",
      "22/22 [==============================] - 0s 2ms/step - loss: 0.3708 - accuracy: 0.8520 - val_loss: 0.6115 - val_accuracy: 0.6939\n",
      "Epoch 16/500\n",
      "22/22 [==============================] - 0s 2ms/step - loss: 0.3736 - accuracy: 0.8549 - val_loss: 0.5835 - val_accuracy: 0.6939\n",
      "Epoch 17/500\n",
      "22/22 [==============================] - 0s 2ms/step - loss: 0.3560 - accuracy: 0.8549 - val_loss: 0.7277 - val_accuracy: 0.6939\n",
      "Epoch 18/500\n",
      "22/22 [==============================] - 0s 2ms/step - loss: 0.3685 - accuracy: 0.8520 - val_loss: 0.5179 - val_accuracy: 0.7755\n",
      "Epoch 19/500\n",
      "22/22 [==============================] - 0s 2ms/step - loss: 0.3923 - accuracy: 0.8405 - val_loss: 0.5690 - val_accuracy: 0.7143\n",
      "Epoch 20/500\n",
      " 1/22 [>.............................] - ETA: 0s - loss: 0.2243 - accuracy: 0.8750Restoring model weights from the end of the best epoch: 10.\n",
      "22/22 [==============================] - 0s 2ms/step - loss: 0.3888 - accuracy: 0.8362 - val_loss: 0.6651 - val_accuracy: 0.7143\n",
      "Epoch 20: early stopping\n"
     ]
    }
   ],
   "source": [
    "history=model.fit(X_train, y_train, validation_data=(X_val, y_val),\n",
    "                    epochs=500, batch_size=32, callbacks=[early_stop])"
   ]
  },
  {
   "cell_type": "code",
   "execution_count": 74,
   "metadata": {
    "colab": {
     "base_uri": "https://localhost:8080/",
     "height": 0
    },
    "id": "GrDT1y0tnZZu",
    "outputId": "47c0ea09-be22-42ee-e481-4cc21deb25dd"
   },
   "outputs": [
    {
     "data": {
      "text/plain": [
       "<matplotlib.legend.Legend at 0x1dc468fa790>"
      ]
     },
     "execution_count": 74,
     "metadata": {},
     "output_type": "execute_result"
    },
    {
     "data": {
      "image/png": "[encoded data removed]",
      "text/plain": [
       "<Figure size 640x480 with 1 Axes>"
      ]
     },
     "metadata": {},
     "output_type": "display_data"
    }
   ],
   "source": [
    "plt.plot(history.history['loss'], label = 'training loss')\n",
    "plt.plot(history.history['val_loss'], label = 'validation loss')\n",
    "plt.legend()"
   ]
  },
  {
   "cell_type": "markdown",
   "metadata": {
    "id": "93tZ3tn0oBqv"
   },
   "source": [
    "#Evaluasi Model"
   ]
  },
  {
   "cell_type": "code",
   "execution_count": 69,
   "metadata": {
    "colab": {
     "base_uri": "https://localhost:8080/"
    },
    "id": "92GkkGj_ns11",
    "outputId": "df45418d-4653-4e39-b647-1120bee34ce9"
   },
   "outputs": [
    {
     "name": "stdout",
     "output_type": "stream",
     "text": [
      "2/2 [==============================] - 0s 4ms/step - loss: 0.2304 - accuracy: 0.8600\n"
     ]
    },
    {
     "data": {
      "text/plain": [
       "[0.2304186075925827, 0.8600000143051147]"
      ]
     },
     "execution_count": 69,
     "metadata": {},
     "output_type": "execute_result"
    }
   ],
   "source": [
    "model.evaluate(X_test, y_test)"
   ]
  },
  {
   "cell_type": "code",
   "execution_count": 70,
   "metadata": {
    "colab": {
     "base_uri": "https://localhost:8080/"
    },
    "id": "sSC3zLk8nucR",
    "outputId": "82650fb7-d043-471e-b027-3f18abc1af1e"
   },
   "outputs": [
    {
     "name": "stdout",
     "output_type": "stream",
     "text": [
      "2/2 [==============================] - 0s 2ms/step\n",
      "0.8655771195097038\n"
     ]
    }
   ],
   "source": [
    "y_pred=model.predict(X_test)\n",
    "y_pred=np.round(y_pred)\n",
    "score=f1_score(y_test,y_pred,average='weighted')\n",
    "print(score)"
   ]
  },
  {
   "cell_type": "code",
   "execution_count": 71,
   "metadata": {
    "id": "n4hT-1LPPzrl"
   },
   "outputs": [],
   "source": [
    "from sklearn.metrics import confusion_matrix, ConfusionMatrixDisplay, classification_report\n",
    "\n",
    "# Fungsi untuk menampilkan evaluasi parametrik\n",
    "def evaluation_parametrics(name,y_val, y_pred):\n",
    "    \n",
    "    print(\"\\n------------------------{}------------------------\\n\".format(name))\n",
    "\n",
    "    cm_test = confusion_matrix(y_val, y_pred)\n",
    "    t1 = ConfusionMatrixDisplay(cm_test)    \n",
    "    print(\"\\nClassification Report for Data Test\\n\")\n",
    "    print(classification_report(y_val, y_pred))   \n",
    "    print(\"--------------------------------------------------------------------------\")\n",
    "\n",
    "    t1.plot()"
   ]
  },
  {
   "cell_type": "code",
   "execution_count": 72,
   "metadata": {
    "colab": {
     "base_uri": "https://localhost:8080/",
     "height": 727
    },
    "id": "chCr6zwuP9K1",
    "outputId": "ec5feb14-58cb-4327-8a67-8eea40dde25a"
   },
   "outputs": [
    {
     "name": "stdout",
     "output_type": "stream",
     "text": [
      "\n",
      "------------------------Machine Learning - Classification------------------------\n",
      "\n",
      "\n",
      "Classification Report for Data Test\n",
      "\n",
      "              precision    recall  f1-score   support\n",
      "\n",
      "           0       0.93      0.91      0.92        45\n",
      "           1       0.33      0.40      0.36         5\n",
      "\n",
      "    accuracy                           0.86        50\n",
      "   macro avg       0.63      0.66      0.64        50\n",
      "weighted avg       0.87      0.86      0.87        50\n",
      "\n",
      "--------------------------------------------------------------------------\n"
     ]
    },
    {
     "data": {
      "image/png": "[encoded data removed]",
      "text/plain": [
       "<Figure size 640x480 with 2 Axes>"
      ]
     },
     "metadata": {},
     "output_type": "display_data"
    }
   ],
   "source": [
    "evaluation_parametrics(\"Machine Learning - Classification\", y_test, y_pred)"
   ]
  },
  {
   "cell_type": "markdown",
   "metadata": {
    "id": "7T67zD0OoDlh"
   },
   "source": [
    "#Save Model"
   ]
  },
  {
   "cell_type": "code",
   "execution_count": 75,
   "metadata": {
    "id": "td8VXWELny96"
   },
   "outputs": [],
   "source": [
    "model.save('model.h5')"
   ]
  },
  {
   "cell_type": "code",
   "execution_count": null,
   "metadata": {},
   "outputs": [],
   "source": []
  }
 ],
 "metadata": {
  "colab": {
   "collapsed_sections": [
    "5NyvIlcSRbJf",
    "FPgsnMTOSpHt",
    "6SWbc9FMWAbE",
    "kFymWfzaSAOu",
    "YnVPmcSSXjGk",
    "8LG4TZeXtsBW",
    "crEmSCBKfDxy",
    "3Id8XhYlb39P",
    "dc8MyeAHefth",
    "mWWLiV8Vn-Dm",
    "7T67zD0OoDlh"
   ],
   "provenance": []
  },
  "kernelspec": {
   "display_name": "Python 3 (ipykernel)",
   "language": "python",
   "name": "python3"
  },
  "language_info": {
   "codemirror_mode": {
    "name": "ipython",
    "version": 3
   },
   "file_extension": ".py",
   "mimetype": "text/x-python",
   "name": "python",
   "nbconvert_exporter": "python",
   "pygments_lexer": "ipython3",
   "version": "3.9.13"
  }
 },
 "nbformat": 4,
 "nbformat_minor": 1
}
